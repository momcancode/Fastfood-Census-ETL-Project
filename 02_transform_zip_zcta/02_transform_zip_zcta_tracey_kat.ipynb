{
 "cells": [
  {
   "cell_type": "code",
   "execution_count": 1,
   "metadata": {},
   "outputs": [],
   "source": [
    "# Dependencies\n",
    "import pandas as pd"
   ]
  },
  {
   "cell_type": "markdown",
   "metadata": {},
   "source": [
    "### Transform the zip_to_zcta dataframe"
   ]
  },
  {
   "cell_type": "code",
   "execution_count": 2,
   "metadata": {},
   "outputs": [],
   "source": [
    "# Import ZIP to ZCTA conversion table. All fields were imported as string to ensure the ZIP Codes retains the \"00\" prefixes \n",
    "zip_to_zcta_df = pd.read_excel(\"../00_input/zip_to_zcta_2019.xlsx\", dtype = 'str')"
   ]
  },
  {
   "cell_type": "code",
   "execution_count": 3,
   "metadata": {},
   "outputs": [
    {
     "data": {
      "text/html": [
       "<div>\n",
       "<style scoped>\n",
       "    .dataframe tbody tr th:only-of-type {\n",
       "        vertical-align: middle;\n",
       "    }\n",
       "\n",
       "    .dataframe tbody tr th {\n",
       "        vertical-align: top;\n",
       "    }\n",
       "\n",
       "    .dataframe thead th {\n",
       "        text-align: right;\n",
       "    }\n",
       "</style>\n",
       "<table border=\"1\" class=\"dataframe\">\n",
       "  <thead>\n",
       "    <tr style=\"text-align: right;\">\n",
       "      <th></th>\n",
       "      <th>ZIP_CODE</th>\n",
       "      <th>PO_NAME</th>\n",
       "      <th>STATE</th>\n",
       "      <th>ZIP_TYPE</th>\n",
       "      <th>ZCTA</th>\n",
       "      <th>zip_join_type</th>\n",
       "    </tr>\n",
       "  </thead>\n",
       "  <tbody>\n",
       "    <tr>\n",
       "      <th>0</th>\n",
       "      <td>00501</td>\n",
       "      <td>Holtsville</td>\n",
       "      <td>NY</td>\n",
       "      <td>Post Office or large volume customer</td>\n",
       "      <td>11742</td>\n",
       "      <td>Spatial join to ZCTA</td>\n",
       "    </tr>\n",
       "    <tr>\n",
       "      <th>1</th>\n",
       "      <td>00544</td>\n",
       "      <td>Holtsville</td>\n",
       "      <td>NY</td>\n",
       "      <td>Post Office or large volume customer</td>\n",
       "      <td>11742</td>\n",
       "      <td>Spatial join to ZCTA</td>\n",
       "    </tr>\n",
       "    <tr>\n",
       "      <th>2</th>\n",
       "      <td>00601</td>\n",
       "      <td>Adjuntas</td>\n",
       "      <td>PR</td>\n",
       "      <td>Zip Code Area</td>\n",
       "      <td>00601</td>\n",
       "      <td>Zip Matches ZCTA</td>\n",
       "    </tr>\n",
       "    <tr>\n",
       "      <th>3</th>\n",
       "      <td>00602</td>\n",
       "      <td>Aguada</td>\n",
       "      <td>PR</td>\n",
       "      <td>Zip Code Area</td>\n",
       "      <td>00602</td>\n",
       "      <td>Zip Matches ZCTA</td>\n",
       "    </tr>\n",
       "    <tr>\n",
       "      <th>4</th>\n",
       "      <td>00603</td>\n",
       "      <td>Aguadilla</td>\n",
       "      <td>PR</td>\n",
       "      <td>Zip Code Area</td>\n",
       "      <td>00603</td>\n",
       "      <td>Zip Matches ZCTA</td>\n",
       "    </tr>\n",
       "  </tbody>\n",
       "</table>\n",
       "</div>"
      ],
      "text/plain": [
       "  ZIP_CODE     PO_NAME STATE                              ZIP_TYPE   ZCTA  \\\n",
       "0    00501  Holtsville    NY  Post Office or large volume customer  11742   \n",
       "1    00544  Holtsville    NY  Post Office or large volume customer  11742   \n",
       "2    00601    Adjuntas    PR                         Zip Code Area  00601   \n",
       "3    00602      Aguada    PR                         Zip Code Area  00602   \n",
       "4    00603   Aguadilla    PR                         Zip Code Area  00603   \n",
       "\n",
       "          zip_join_type  \n",
       "0  Spatial join to ZCTA  \n",
       "1  Spatial join to ZCTA  \n",
       "2      Zip Matches ZCTA  \n",
       "3      Zip Matches ZCTA  \n",
       "4      Zip Matches ZCTA  "
      ]
     },
     "execution_count": 3,
     "metadata": {},
     "output_type": "execute_result"
    }
   ],
   "source": [
    "# Check the ZIP/ZCTA dataframe data, particularly for retention of \"00\" for ZIP Codes\n",
    "zip_to_zcta_df.head()"
   ]
  },
  {
   "cell_type": "code",
   "execution_count": 4,
   "metadata": {},
   "outputs": [
    {
     "name": "stdout",
     "output_type": "stream",
     "text": [
      "<class 'pandas.core.frame.DataFrame'>\n",
      "RangeIndex: 41107 entries, 0 to 41106\n",
      "Data columns (total 6 columns):\n",
      " #   Column         Non-Null Count  Dtype \n",
      "---  ------         --------------  ----- \n",
      " 0   ZIP_CODE       41107 non-null  object\n",
      " 1   PO_NAME        41107 non-null  object\n",
      " 2   STATE          41106 non-null  object\n",
      " 3   ZIP_TYPE       41107 non-null  object\n",
      " 4   ZCTA           41107 non-null  object\n",
      " 5   zip_join_type  41107 non-null  object\n",
      "dtypes: object(6)\n",
      "memory usage: 1.9+ MB\n"
     ]
    }
   ],
   "source": [
    "# Review data types in ZIP/ZCTA dataframe\n",
    "zip_to_zcta_df.info()"
   ]
  },
  {
   "cell_type": "code",
   "execution_count": 5,
   "metadata": {},
   "outputs": [
    {
     "name": "stdout",
     "output_type": "stream",
     "text": [
      "Max zip_code length is 5.\n",
      "Min zip_code length is 5.\n"
     ]
    }
   ],
   "source": [
    "# Check the minimum and maximum length of values in column ZIP_CODE\n",
    "zip_code_len = zip_to_zcta_df[\"ZIP_CODE\"].apply(len)\n",
    "print(f\"Max zip_code length is {zip_code_len.max()}.\")\n",
    "print(f\"Min zip_code length is {zip_code_len.min()}.\")"
   ]
  },
  {
   "cell_type": "code",
   "execution_count": 6,
   "metadata": {},
   "outputs": [
    {
     "name": "stdout",
     "output_type": "stream",
     "text": [
      "Max zcta length is 7.\n",
      "Min zcta length is 5.\n"
     ]
    }
   ],
   "source": [
    "# Check the minimum and maximum length of values in column ZCTA\n",
    "zcta_len = zip_to_zcta_df[\"ZCTA\"].apply(len)\n",
    "print(f\"Max zcta length is {zcta_len.max()}.\")\n",
    "print(f\"Min zcta length is {zcta_len.min()}.\")"
   ]
  },
  {
   "cell_type": "code",
   "execution_count": 7,
   "metadata": {},
   "outputs": [
    {
     "data": {
      "text/html": [
       "<div>\n",
       "<style scoped>\n",
       "    .dataframe tbody tr th:only-of-type {\n",
       "        vertical-align: middle;\n",
       "    }\n",
       "\n",
       "    .dataframe tbody tr th {\n",
       "        vertical-align: top;\n",
       "    }\n",
       "\n",
       "    .dataframe thead th {\n",
       "        text-align: right;\n",
       "    }\n",
       "</style>\n",
       "<table border=\"1\" class=\"dataframe\">\n",
       "  <thead>\n",
       "    <tr style=\"text-align: right;\">\n",
       "      <th></th>\n",
       "      <th>ZIP_CODE</th>\n",
       "      <th>PO_NAME</th>\n",
       "      <th>STATE</th>\n",
       "      <th>ZIP_TYPE</th>\n",
       "      <th>ZCTA</th>\n",
       "      <th>zip_join_type</th>\n",
       "    </tr>\n",
       "  </thead>\n",
       "  <tbody>\n",
       "    <tr>\n",
       "      <th>41098</th>\n",
       "      <td>96939</td>\n",
       "      <td>Ngerulmud</td>\n",
       "      <td>PW</td>\n",
       "      <td>Zip Code Area</td>\n",
       "      <td>No ZCTA</td>\n",
       "      <td>territory zip, no ZCTA available</td>\n",
       "    </tr>\n",
       "    <tr>\n",
       "      <th>41099</th>\n",
       "      <td>96940</td>\n",
       "      <td>Koror</td>\n",
       "      <td>PW</td>\n",
       "      <td>Post Office or large volume customer</td>\n",
       "      <td>No ZCTA</td>\n",
       "      <td>territory zip, no ZCTA available</td>\n",
       "    </tr>\n",
       "    <tr>\n",
       "      <th>41100</th>\n",
       "      <td>96941</td>\n",
       "      <td>Pohnpei</td>\n",
       "      <td>FM</td>\n",
       "      <td>Post Office or large volume customer</td>\n",
       "      <td>No ZCTA</td>\n",
       "      <td>territory zip, no ZCTA available</td>\n",
       "    </tr>\n",
       "    <tr>\n",
       "      <th>41101</th>\n",
       "      <td>96942</td>\n",
       "      <td>Chuuk</td>\n",
       "      <td>FM</td>\n",
       "      <td>Post Office or large volume customer</td>\n",
       "      <td>No ZCTA</td>\n",
       "      <td>territory zip, no ZCTA available</td>\n",
       "    </tr>\n",
       "    <tr>\n",
       "      <th>41102</th>\n",
       "      <td>96943</td>\n",
       "      <td>Yap</td>\n",
       "      <td>FM</td>\n",
       "      <td>Post Office or large volume customer</td>\n",
       "      <td>No ZCTA</td>\n",
       "      <td>territory zip, no ZCTA available</td>\n",
       "    </tr>\n",
       "    <tr>\n",
       "      <th>41103</th>\n",
       "      <td>96944</td>\n",
       "      <td>Kosrae</td>\n",
       "      <td>FM</td>\n",
       "      <td>Post Office or large volume customer</td>\n",
       "      <td>No ZCTA</td>\n",
       "      <td>territory zip, no ZCTA available</td>\n",
       "    </tr>\n",
       "    <tr>\n",
       "      <th>41104</th>\n",
       "      <td>96960</td>\n",
       "      <td>Majuro</td>\n",
       "      <td>MH</td>\n",
       "      <td>Post Office or large volume customer</td>\n",
       "      <td>No ZCTA</td>\n",
       "      <td>territory zip, no ZCTA available</td>\n",
       "    </tr>\n",
       "    <tr>\n",
       "      <th>41105</th>\n",
       "      <td>96970</td>\n",
       "      <td>Ebeye</td>\n",
       "      <td>MH</td>\n",
       "      <td>Post Office or large volume customer</td>\n",
       "      <td>No ZCTA</td>\n",
       "      <td>territory zip, no ZCTA available</td>\n",
       "    </tr>\n",
       "    <tr>\n",
       "      <th>41106</th>\n",
       "      <td>96898</td>\n",
       "      <td>Minor Outlying Islands</td>\n",
       "      <td>NaN</td>\n",
       "      <td>Post Office or large volume customer</td>\n",
       "      <td>No ZCTA</td>\n",
       "      <td>territory zip, no ZCTA available</td>\n",
       "    </tr>\n",
       "  </tbody>\n",
       "</table>\n",
       "</div>"
      ],
      "text/plain": [
       "      ZIP_CODE                 PO_NAME STATE  \\\n",
       "41098    96939               Ngerulmud    PW   \n",
       "41099    96940                   Koror    PW   \n",
       "41100    96941                 Pohnpei    FM   \n",
       "41101    96942                   Chuuk    FM   \n",
       "41102    96943                     Yap    FM   \n",
       "41103    96944                  Kosrae    FM   \n",
       "41104    96960                  Majuro    MH   \n",
       "41105    96970                   Ebeye    MH   \n",
       "41106    96898  Minor Outlying Islands   NaN   \n",
       "\n",
       "                                   ZIP_TYPE     ZCTA  \\\n",
       "41098                         Zip Code Area  No ZCTA   \n",
       "41099  Post Office or large volume customer  No ZCTA   \n",
       "41100  Post Office or large volume customer  No ZCTA   \n",
       "41101  Post Office or large volume customer  No ZCTA   \n",
       "41102  Post Office or large volume customer  No ZCTA   \n",
       "41103  Post Office or large volume customer  No ZCTA   \n",
       "41104  Post Office or large volume customer  No ZCTA   \n",
       "41105  Post Office or large volume customer  No ZCTA   \n",
       "41106  Post Office or large volume customer  No ZCTA   \n",
       "\n",
       "                          zip_join_type  \n",
       "41098  territory zip, no ZCTA available  \n",
       "41099  territory zip, no ZCTA available  \n",
       "41100  territory zip, no ZCTA available  \n",
       "41101  territory zip, no ZCTA available  \n",
       "41102  territory zip, no ZCTA available  \n",
       "41103  territory zip, no ZCTA available  \n",
       "41104  territory zip, no ZCTA available  \n",
       "41105  territory zip, no ZCTA available  \n",
       "41106  territory zip, no ZCTA available  "
      ]
     },
     "execution_count": 7,
     "metadata": {},
     "output_type": "execute_result"
    }
   ],
   "source": [
    "# A look into rows with length of values in column ZCTA > 5 \n",
    "zip_to_zcta_df[zip_to_zcta_df.ZCTA.str.len() > zcta_len.min()]"
   ]
  },
  {
   "cell_type": "code",
   "execution_count": 8,
   "metadata": {},
   "outputs": [],
   "source": [
    "# Remove all rows with ZCTA = \"No ZCTA\"\n",
    "zip_to_zcta_df = zip_to_zcta_df[~(zip_to_zcta_df.ZCTA.str.len() > zcta_len.min())]"
   ]
  },
  {
   "cell_type": "code",
   "execution_count": 9,
   "metadata": {},
   "outputs": [
    {
     "name": "stdout",
     "output_type": "stream",
     "text": [
      "<class 'pandas.core.frame.DataFrame'>\n",
      "Int64Index: 41098 entries, 0 to 41097\n",
      "Data columns (total 6 columns):\n",
      " #   Column         Non-Null Count  Dtype \n",
      "---  ------         --------------  ----- \n",
      " 0   ZIP_CODE       41098 non-null  object\n",
      " 1   PO_NAME        41098 non-null  object\n",
      " 2   STATE          41098 non-null  object\n",
      " 3   ZIP_TYPE       41098 non-null  object\n",
      " 4   ZCTA           41098 non-null  object\n",
      " 5   zip_join_type  41098 non-null  object\n",
      "dtypes: object(6)\n",
      "memory usage: 2.2+ MB\n"
     ]
    }
   ],
   "source": [
    "zip_to_zcta_df.info()"
   ]
  },
  {
   "cell_type": "code",
   "execution_count": 10,
   "metadata": {},
   "outputs": [
    {
     "data": {
      "text/plain": [
       "41098"
      ]
     },
     "execution_count": 10,
     "metadata": {},
     "output_type": "execute_result"
    }
   ],
   "source": [
    "# Identify any duplicated ZIP Codes as all ZIP Codes should be unique (many ZIP Codes to one ZCTA relationship)\n",
    "zip_to_zcta_df['ZIP_CODE'].nunique()"
   ]
  },
  {
   "cell_type": "code",
   "execution_count": 11,
   "metadata": {},
   "outputs": [
    {
     "data": {
      "text/plain": [
       "33166"
      ]
     },
     "execution_count": 11,
     "metadata": {},
     "output_type": "execute_result"
    }
   ],
   "source": [
    "zip_to_zcta_df['ZCTA'].nunique()"
   ]
  },
  {
   "cell_type": "markdown",
   "metadata": {},
   "source": [
    "### Test merging against zip_code in the zip_code table"
   ]
  },
  {
   "cell_type": "code",
   "execution_count": 12,
   "metadata": {},
   "outputs": [
    {
     "data": {
      "text/html": [
       "<div>\n",
       "<style scoped>\n",
       "    .dataframe tbody tr th:only-of-type {\n",
       "        vertical-align: middle;\n",
       "    }\n",
       "\n",
       "    .dataframe tbody tr th {\n",
       "        vertical-align: top;\n",
       "    }\n",
       "\n",
       "    .dataframe thead th {\n",
       "        text-align: right;\n",
       "    }\n",
       "</style>\n",
       "<table border=\"1\" class=\"dataframe\">\n",
       "  <thead>\n",
       "    <tr style=\"text-align: right;\">\n",
       "      <th></th>\n",
       "      <th>zip_code</th>\n",
       "      <th>city</th>\n",
       "      <th>state</th>\n",
       "    </tr>\n",
       "  </thead>\n",
       "  <tbody>\n",
       "    <tr>\n",
       "      <th>0</th>\n",
       "      <td>70301</td>\n",
       "      <td>Thibodaux</td>\n",
       "      <td>LA</td>\n",
       "    </tr>\n",
       "    <tr>\n",
       "      <th>1</th>\n",
       "      <td>37863</td>\n",
       "      <td>Pigeon Forge</td>\n",
       "      <td>TN</td>\n",
       "    </tr>\n",
       "    <tr>\n",
       "      <th>2</th>\n",
       "      <td>30260</td>\n",
       "      <td>Morrow</td>\n",
       "      <td>GA</td>\n",
       "    </tr>\n",
       "    <tr>\n",
       "      <th>3</th>\n",
       "      <td>48204</td>\n",
       "      <td>Detroit</td>\n",
       "      <td>MI</td>\n",
       "    </tr>\n",
       "    <tr>\n",
       "      <th>4</th>\n",
       "      <td>48235</td>\n",
       "      <td>Detroit</td>\n",
       "      <td>MI</td>\n",
       "    </tr>\n",
       "  </tbody>\n",
       "</table>\n",
       "</div>"
      ],
      "text/plain": [
       "  zip_code          city state\n",
       "0    70301     Thibodaux    LA\n",
       "1    37863  Pigeon Forge    TN\n",
       "2    30260        Morrow    GA\n",
       "3    48204       Detroit    MI\n",
       "4    48235       Detroit    MI"
      ]
     },
     "execution_count": 12,
     "metadata": {},
     "output_type": "execute_result"
    }
   ],
   "source": [
    "# Import cleaned restaurant data\n",
    "zip_code_df = pd.read_csv(\"../02_transform_restaurant/zip_code.csv\", dtype={'zip_code': 'str'})\n",
    "zip_code_df.head()"
   ]
  },
  {
   "cell_type": "code",
   "execution_count": 13,
   "metadata": {},
   "outputs": [
    {
     "name": "stdout",
     "output_type": "stream",
     "text": [
      "<class 'pandas.core.frame.DataFrame'>\n",
      "RangeIndex: 5426 entries, 0 to 5425\n",
      "Data columns (total 3 columns):\n",
      " #   Column    Non-Null Count  Dtype \n",
      "---  ------    --------------  ----- \n",
      " 0   zip_code  5426 non-null   object\n",
      " 1   city      5426 non-null   object\n",
      " 2   state     5426 non-null   object\n",
      "dtypes: object(3)\n",
      "memory usage: 127.3+ KB\n"
     ]
    }
   ],
   "source": [
    "# An overview of restaurant data\n",
    "zip_code_df.info()"
   ]
  },
  {
   "cell_type": "code",
   "execution_count": 14,
   "metadata": {},
   "outputs": [
    {
     "data": {
      "text/html": [
       "<div>\n",
       "<style scoped>\n",
       "    .dataframe tbody tr th:only-of-type {\n",
       "        vertical-align: middle;\n",
       "    }\n",
       "\n",
       "    .dataframe tbody tr th {\n",
       "        vertical-align: top;\n",
       "    }\n",
       "\n",
       "    .dataframe thead th {\n",
       "        text-align: right;\n",
       "    }\n",
       "</style>\n",
       "<table border=\"1\" class=\"dataframe\">\n",
       "  <thead>\n",
       "    <tr style=\"text-align: right;\">\n",
       "      <th></th>\n",
       "      <th>zip_code</th>\n",
       "      <th>city</th>\n",
       "      <th>state</th>\n",
       "      <th>ZIP_CODE</th>\n",
       "      <th>PO_NAME</th>\n",
       "      <th>STATE</th>\n",
       "      <th>ZIP_TYPE</th>\n",
       "      <th>ZCTA</th>\n",
       "      <th>zip_join_type</th>\n",
       "    </tr>\n",
       "  </thead>\n",
       "  <tbody>\n",
       "    <tr>\n",
       "      <th>0</th>\n",
       "      <td>70301</td>\n",
       "      <td>Thibodaux</td>\n",
       "      <td>LA</td>\n",
       "      <td>70301</td>\n",
       "      <td>Thibodaux</td>\n",
       "      <td>LA</td>\n",
       "      <td>Zip Code Area</td>\n",
       "      <td>70301</td>\n",
       "      <td>Zip Matches ZCTA</td>\n",
       "    </tr>\n",
       "    <tr>\n",
       "      <th>1</th>\n",
       "      <td>37863</td>\n",
       "      <td>Pigeon Forge</td>\n",
       "      <td>TN</td>\n",
       "      <td>37863</td>\n",
       "      <td>Pigeon Forge</td>\n",
       "      <td>TN</td>\n",
       "      <td>Zip Code Area</td>\n",
       "      <td>37863</td>\n",
       "      <td>Zip Matches ZCTA</td>\n",
       "    </tr>\n",
       "    <tr>\n",
       "      <th>2</th>\n",
       "      <td>30260</td>\n",
       "      <td>Morrow</td>\n",
       "      <td>GA</td>\n",
       "      <td>30260</td>\n",
       "      <td>Morrow</td>\n",
       "      <td>GA</td>\n",
       "      <td>Zip Code Area</td>\n",
       "      <td>30260</td>\n",
       "      <td>Zip Matches ZCTA</td>\n",
       "    </tr>\n",
       "    <tr>\n",
       "      <th>3</th>\n",
       "      <td>48204</td>\n",
       "      <td>Detroit</td>\n",
       "      <td>MI</td>\n",
       "      <td>48204</td>\n",
       "      <td>Detroit</td>\n",
       "      <td>MI</td>\n",
       "      <td>Zip Code Area</td>\n",
       "      <td>48204</td>\n",
       "      <td>Zip Matches ZCTA</td>\n",
       "    </tr>\n",
       "    <tr>\n",
       "      <th>4</th>\n",
       "      <td>48235</td>\n",
       "      <td>Detroit</td>\n",
       "      <td>MI</td>\n",
       "      <td>48235</td>\n",
       "      <td>Detroit</td>\n",
       "      <td>MI</td>\n",
       "      <td>Zip Code Area</td>\n",
       "      <td>48235</td>\n",
       "      <td>Zip Matches ZCTA</td>\n",
       "    </tr>\n",
       "  </tbody>\n",
       "</table>\n",
       "</div>"
      ],
      "text/plain": [
       "  zip_code          city state ZIP_CODE       PO_NAME STATE       ZIP_TYPE  \\\n",
       "0    70301     Thibodaux    LA    70301     Thibodaux    LA  Zip Code Area   \n",
       "1    37863  Pigeon Forge    TN    37863  Pigeon Forge    TN  Zip Code Area   \n",
       "2    30260        Morrow    GA    30260        Morrow    GA  Zip Code Area   \n",
       "3    48204       Detroit    MI    48204       Detroit    MI  Zip Code Area   \n",
       "4    48235       Detroit    MI    48235       Detroit    MI  Zip Code Area   \n",
       "\n",
       "    ZCTA     zip_join_type  \n",
       "0  70301  Zip Matches ZCTA  \n",
       "1  37863  Zip Matches ZCTA  \n",
       "2  30260  Zip Matches ZCTA  \n",
       "3  48204  Zip Matches ZCTA  \n",
       "4  48235  Zip Matches ZCTA  "
      ]
     },
     "execution_count": 14,
     "metadata": {},
     "output_type": "execute_result"
    }
   ],
   "source": [
    "common_zip_mix = pd.merge(zip_code_df, zip_to_zcta_df, left_on=\"zip_code\", right_on=\"ZIP_CODE\")\n",
    "common_zip_mix.head()"
   ]
  },
  {
   "cell_type": "code",
   "execution_count": 15,
   "metadata": {},
   "outputs": [
    {
     "name": "stdout",
     "output_type": "stream",
     "text": [
      "<class 'pandas.core.frame.DataFrame'>\n",
      "Int64Index: 5426 entries, 0 to 5425\n",
      "Data columns (total 9 columns):\n",
      " #   Column         Non-Null Count  Dtype \n",
      "---  ------         --------------  ----- \n",
      " 0   zip_code       5426 non-null   object\n",
      " 1   city           5426 non-null   object\n",
      " 2   state          5426 non-null   object\n",
      " 3   ZIP_CODE       5426 non-null   object\n",
      " 4   PO_NAME        5426 non-null   object\n",
      " 5   STATE          5426 non-null   object\n",
      " 6   ZIP_TYPE       5426 non-null   object\n",
      " 7   ZCTA           5426 non-null   object\n",
      " 8   zip_join_type  5426 non-null   object\n",
      "dtypes: object(9)\n",
      "memory usage: 423.9+ KB\n"
     ]
    }
   ],
   "source": [
    "common_zip_mix.info()"
   ]
  },
  {
   "cell_type": "code",
   "execution_count": 16,
   "metadata": {},
   "outputs": [
    {
     "data": {
      "text/html": [
       "<div>\n",
       "<style scoped>\n",
       "    .dataframe tbody tr th:only-of-type {\n",
       "        vertical-align: middle;\n",
       "    }\n",
       "\n",
       "    .dataframe tbody tr th {\n",
       "        vertical-align: top;\n",
       "    }\n",
       "\n",
       "    .dataframe thead th {\n",
       "        text-align: right;\n",
       "    }\n",
       "</style>\n",
       "<table border=\"1\" class=\"dataframe\">\n",
       "  <thead>\n",
       "    <tr style=\"text-align: right;\">\n",
       "      <th></th>\n",
       "      <th>zip_code</th>\n",
       "      <th>city</th>\n",
       "      <th>state</th>\n",
       "      <th>ZIP_CODE</th>\n",
       "      <th>PO_NAME</th>\n",
       "      <th>STATE</th>\n",
       "      <th>ZIP_TYPE</th>\n",
       "      <th>ZCTA</th>\n",
       "      <th>zip_join_type</th>\n",
       "    </tr>\n",
       "  </thead>\n",
       "  <tbody>\n",
       "    <tr>\n",
       "      <th>112</th>\n",
       "      <td>32435</td>\n",
       "      <td>DeFuniak Springs</td>\n",
       "      <td>FL</td>\n",
       "      <td>32435</td>\n",
       "      <td>Defuniak Springs</td>\n",
       "      <td>FL</td>\n",
       "      <td>Zip Code Area</td>\n",
       "      <td>32435</td>\n",
       "      <td>Zip Matches ZCTA</td>\n",
       "    </tr>\n",
       "    <tr>\n",
       "      <th>308</th>\n",
       "      <td>32720</td>\n",
       "      <td>DeLand</td>\n",
       "      <td>FL</td>\n",
       "      <td>32720</td>\n",
       "      <td>Deland</td>\n",
       "      <td>FL</td>\n",
       "      <td>Zip Code Area</td>\n",
       "      <td>32720</td>\n",
       "      <td>Zip Matches ZCTA</td>\n",
       "    </tr>\n",
       "    <tr>\n",
       "      <th>317</th>\n",
       "      <td>27103</td>\n",
       "      <td>Winston-Salem</td>\n",
       "      <td>NC</td>\n",
       "      <td>27103</td>\n",
       "      <td>Winston Salem</td>\n",
       "      <td>NC</td>\n",
       "      <td>Zip Code Area</td>\n",
       "      <td>27103</td>\n",
       "      <td>Zip Matches ZCTA</td>\n",
       "    </tr>\n",
       "    <tr>\n",
       "      <th>486</th>\n",
       "      <td>60115</td>\n",
       "      <td>DeKalb</td>\n",
       "      <td>IL</td>\n",
       "      <td>60115</td>\n",
       "      <td>Dekalb</td>\n",
       "      <td>IL</td>\n",
       "      <td>Zip Code Area</td>\n",
       "      <td>60115</td>\n",
       "      <td>Zip Matches ZCTA</td>\n",
       "    </tr>\n",
       "    <tr>\n",
       "      <th>620</th>\n",
       "      <td>83814</td>\n",
       "      <td>Coeur d'Alene</td>\n",
       "      <td>ID</td>\n",
       "      <td>83814</td>\n",
       "      <td>Coeur D Alene</td>\n",
       "      <td>ID</td>\n",
       "      <td>Zip Code Area</td>\n",
       "      <td>83814</td>\n",
       "      <td>Zip Matches ZCTA</td>\n",
       "    </tr>\n",
       "    <tr>\n",
       "      <th>2883</th>\n",
       "      <td>96786</td>\n",
       "      <td>WahiawƒÅ</td>\n",
       "      <td>HI</td>\n",
       "      <td>96786</td>\n",
       "      <td>Wahiawa</td>\n",
       "      <td>HI</td>\n",
       "      <td>Zip Code Area</td>\n",
       "      <td>96786</td>\n",
       "      <td>Zip Matches ZCTA</td>\n",
       "    </tr>\n",
       "    <tr>\n",
       "      <th>2887</th>\n",
       "      <td>96753</td>\n",
       "      <td>Kƒ´hei</td>\n",
       "      <td>HI</td>\n",
       "      <td>96753</td>\n",
       "      <td>Kihei</td>\n",
       "      <td>HI</td>\n",
       "      <td>Zip Code Area</td>\n",
       "      <td>96753</td>\n",
       "      <td>Zip Matches ZCTA</td>\n",
       "    </tr>\n",
       "    <tr>\n",
       "      <th>3100</th>\n",
       "      <td>70634</td>\n",
       "      <td>DeRidder</td>\n",
       "      <td>LA</td>\n",
       "      <td>70634</td>\n",
       "      <td>Deridder</td>\n",
       "      <td>LA</td>\n",
       "      <td>Zip Code Area</td>\n",
       "      <td>70634</td>\n",
       "      <td>Zip Matches ZCTA</td>\n",
       "    </tr>\n",
       "    <tr>\n",
       "      <th>3702</th>\n",
       "      <td>27105</td>\n",
       "      <td>Winston-Salem</td>\n",
       "      <td>NC</td>\n",
       "      <td>27105</td>\n",
       "      <td>Winston Salem</td>\n",
       "      <td>NC</td>\n",
       "      <td>Zip Code Area</td>\n",
       "      <td>27105</td>\n",
       "      <td>Zip Matches ZCTA</td>\n",
       "    </tr>\n",
       "    <tr>\n",
       "      <th>4083</th>\n",
       "      <td>50266</td>\n",
       "      <td>West Des Moines</td>\n",
       "      <td>IA</td>\n",
       "      <td>50266</td>\n",
       "      <td>West des Moines</td>\n",
       "      <td>IA</td>\n",
       "      <td>Zip Code Area</td>\n",
       "      <td>50266</td>\n",
       "      <td>Zip Matches ZCTA</td>\n",
       "    </tr>\n",
       "    <tr>\n",
       "      <th>4214</th>\n",
       "      <td>87532</td>\n",
       "      <td>Espa√±ola</td>\n",
       "      <td>NM</td>\n",
       "      <td>87532</td>\n",
       "      <td>Espanola</td>\n",
       "      <td>NM</td>\n",
       "      <td>Zip Code Area</td>\n",
       "      <td>87532</td>\n",
       "      <td>Zip Matches ZCTA</td>\n",
       "    </tr>\n",
       "    <tr>\n",
       "      <th>4537</th>\n",
       "      <td>83815</td>\n",
       "      <td>Coeur d'Alene</td>\n",
       "      <td>ID</td>\n",
       "      <td>83815</td>\n",
       "      <td>Coeur D Alene</td>\n",
       "      <td>ID</td>\n",
       "      <td>Zip Code Area</td>\n",
       "      <td>83815</td>\n",
       "      <td>Zip Matches ZCTA</td>\n",
       "    </tr>\n",
       "    <tr>\n",
       "      <th>4711</th>\n",
       "      <td>91011</td>\n",
       "      <td>La Ca√±ada Flintridge</td>\n",
       "      <td>CA</td>\n",
       "      <td>91011</td>\n",
       "      <td>La Canada Flintridge</td>\n",
       "      <td>CA</td>\n",
       "      <td>Zip Code Area</td>\n",
       "      <td>91011</td>\n",
       "      <td>Zip Matches ZCTA</td>\n",
       "    </tr>\n",
       "    <tr>\n",
       "      <th>5090</th>\n",
       "      <td>27127</td>\n",
       "      <td>Winston-Salem</td>\n",
       "      <td>NC</td>\n",
       "      <td>27127</td>\n",
       "      <td>Winston Salem</td>\n",
       "      <td>NC</td>\n",
       "      <td>Zip Code Area</td>\n",
       "      <td>27127</td>\n",
       "      <td>Zip Matches ZCTA</td>\n",
       "    </tr>\n",
       "    <tr>\n",
       "      <th>5157</th>\n",
       "      <td>27104</td>\n",
       "      <td>Winston-Salem</td>\n",
       "      <td>NC</td>\n",
       "      <td>27104</td>\n",
       "      <td>Winston Salem</td>\n",
       "      <td>NC</td>\n",
       "      <td>Zip Code Area</td>\n",
       "      <td>27104</td>\n",
       "      <td>Zip Matches ZCTA</td>\n",
       "    </tr>\n",
       "    <tr>\n",
       "      <th>5424</th>\n",
       "      <td>27106</td>\n",
       "      <td>Winston-Salem</td>\n",
       "      <td>NC</td>\n",
       "      <td>27106</td>\n",
       "      <td>Winston Salem</td>\n",
       "      <td>NC</td>\n",
       "      <td>Zip Code Area</td>\n",
       "      <td>27106</td>\n",
       "      <td>Zip Matches ZCTA</td>\n",
       "    </tr>\n",
       "    <tr>\n",
       "      <th>5425</th>\n",
       "      <td>27107</td>\n",
       "      <td>Winston-Salem</td>\n",
       "      <td>NC</td>\n",
       "      <td>27107</td>\n",
       "      <td>Winston Salem</td>\n",
       "      <td>NC</td>\n",
       "      <td>Zip Code Area</td>\n",
       "      <td>27107</td>\n",
       "      <td>Zip Matches ZCTA</td>\n",
       "    </tr>\n",
       "  </tbody>\n",
       "</table>\n",
       "</div>"
      ],
      "text/plain": [
       "     zip_code                   city state ZIP_CODE               PO_NAME  \\\n",
       "112     32435       DeFuniak Springs    FL    32435      Defuniak Springs   \n",
       "308     32720                 DeLand    FL    32720                Deland   \n",
       "317     27103          Winston-Salem    NC    27103         Winston Salem   \n",
       "486     60115                 DeKalb    IL    60115                Dekalb   \n",
       "620     83814          Coeur d'Alene    ID    83814         Coeur D Alene   \n",
       "2883    96786               WahiawƒÅ    HI    96786               Wahiawa   \n",
       "2887    96753                 Kƒ´hei    HI    96753                 Kihei   \n",
       "3100    70634               DeRidder    LA    70634              Deridder   \n",
       "3702    27105          Winston-Salem    NC    27105         Winston Salem   \n",
       "4083    50266        West Des Moines    IA    50266       West des Moines   \n",
       "4214    87532              Espa√±ola    NM    87532              Espanola   \n",
       "4537    83815          Coeur d'Alene    ID    83815         Coeur D Alene   \n",
       "4711    91011  La Ca√±ada Flintridge    CA    91011  La Canada Flintridge   \n",
       "5090    27127          Winston-Salem    NC    27127         Winston Salem   \n",
       "5157    27104          Winston-Salem    NC    27104         Winston Salem   \n",
       "5424    27106          Winston-Salem    NC    27106         Winston Salem   \n",
       "5425    27107          Winston-Salem    NC    27107         Winston Salem   \n",
       "\n",
       "     STATE       ZIP_TYPE   ZCTA     zip_join_type  \n",
       "112     FL  Zip Code Area  32435  Zip Matches ZCTA  \n",
       "308     FL  Zip Code Area  32720  Zip Matches ZCTA  \n",
       "317     NC  Zip Code Area  27103  Zip Matches ZCTA  \n",
       "486     IL  Zip Code Area  60115  Zip Matches ZCTA  \n",
       "620     ID  Zip Code Area  83814  Zip Matches ZCTA  \n",
       "2883    HI  Zip Code Area  96786  Zip Matches ZCTA  \n",
       "2887    HI  Zip Code Area  96753  Zip Matches ZCTA  \n",
       "3100    LA  Zip Code Area  70634  Zip Matches ZCTA  \n",
       "3702    NC  Zip Code Area  27105  Zip Matches ZCTA  \n",
       "4083    IA  Zip Code Area  50266  Zip Matches ZCTA  \n",
       "4214    NM  Zip Code Area  87532  Zip Matches ZCTA  \n",
       "4537    ID  Zip Code Area  83815  Zip Matches ZCTA  \n",
       "4711    CA  Zip Code Area  91011  Zip Matches ZCTA  \n",
       "5090    NC  Zip Code Area  27127  Zip Matches ZCTA  \n",
       "5157    NC  Zip Code Area  27104  Zip Matches ZCTA  \n",
       "5424    NC  Zip Code Area  27106  Zip Matches ZCTA  \n",
       "5425    NC  Zip Code Area  27107  Zip Matches ZCTA  "
      ]
     },
     "execution_count": 16,
     "metadata": {},
     "output_type": "execute_result"
    }
   ],
   "source": [
    "common_zip_mix[common_zip_mix[\"city\"] != common_zip_mix[\"PO_NAME\"]]"
   ]
  },
  {
   "cell_type": "markdown",
   "metadata": {},
   "source": [
    "As can be seen from above, most of the \"city\" names in the zip_code table are actually the same as the \"PO_NAME\" names in zip_to_zcta table. Even with some differences, a closer look tells us that they are also the same.\n",
    "\n",
    "As all zip_code in zip_code table are in zip_to_zcta table, we can just use zip_to_zcta table to map zip_code in restaurant address table to ZCTA code in the census table."
   ]
  },
  {
   "cell_type": "code",
   "execution_count": 17,
   "metadata": {},
   "outputs": [
    {
     "data": {
      "text/plain": [
       "array(['Post Office or large volume customer', 'Zip Code Area',\n",
       "       'populated ZCTA, missing zip', 'Territory ZCTA Add'], dtype=object)"
      ]
     },
     "execution_count": 17,
     "metadata": {},
     "output_type": "execute_result"
    }
   ],
   "source": [
    "zip_to_zcta_df[\"ZIP_TYPE\"].unique()"
   ]
  },
  {
   "cell_type": "code",
   "execution_count": 18,
   "metadata": {},
   "outputs": [
    {
     "data": {
      "text/plain": [
       "array(['Spatial join to ZCTA', 'Zip Matches ZCTA',\n",
       "       'populated ZCTA, missing zip', 'Territory ZCTA Add'], dtype=object)"
      ]
     },
     "execution_count": 18,
     "metadata": {},
     "output_type": "execute_result"
    }
   ],
   "source": [
    "zip_to_zcta_df[\"zip_join_type\"].unique()"
   ]
  },
  {
   "cell_type": "code",
   "execution_count": 20,
   "metadata": {},
   "outputs": [
    {
     "data": {
      "text/html": [
       "<div>\n",
       "<style scoped>\n",
       "    .dataframe tbody tr th:only-of-type {\n",
       "        vertical-align: middle;\n",
       "    }\n",
       "\n",
       "    .dataframe tbody tr th {\n",
       "        vertical-align: top;\n",
       "    }\n",
       "\n",
       "    .dataframe thead th {\n",
       "        text-align: right;\n",
       "    }\n",
       "</style>\n",
       "<table border=\"1\" class=\"dataframe\">\n",
       "  <thead>\n",
       "    <tr style=\"text-align: right;\">\n",
       "      <th></th>\n",
       "      <th>ZIP_CODE</th>\n",
       "      <th>PO_NAME</th>\n",
       "      <th>STATE</th>\n",
       "      <th>ZCTA</th>\n",
       "    </tr>\n",
       "  </thead>\n",
       "  <tbody>\n",
       "    <tr>\n",
       "      <th>0</th>\n",
       "      <td>00501</td>\n",
       "      <td>Holtsville</td>\n",
       "      <td>NY</td>\n",
       "      <td>11742</td>\n",
       "    </tr>\n",
       "    <tr>\n",
       "      <th>1</th>\n",
       "      <td>00544</td>\n",
       "      <td>Holtsville</td>\n",
       "      <td>NY</td>\n",
       "      <td>11742</td>\n",
       "    </tr>\n",
       "    <tr>\n",
       "      <th>2</th>\n",
       "      <td>00601</td>\n",
       "      <td>Adjuntas</td>\n",
       "      <td>PR</td>\n",
       "      <td>00601</td>\n",
       "    </tr>\n",
       "    <tr>\n",
       "      <th>3</th>\n",
       "      <td>00602</td>\n",
       "      <td>Aguada</td>\n",
       "      <td>PR</td>\n",
       "      <td>00602</td>\n",
       "    </tr>\n",
       "    <tr>\n",
       "      <th>4</th>\n",
       "      <td>00603</td>\n",
       "      <td>Aguadilla</td>\n",
       "      <td>PR</td>\n",
       "      <td>00603</td>\n",
       "    </tr>\n",
       "  </tbody>\n",
       "</table>\n",
       "</div>"
      ],
      "text/plain": [
       "  ZIP_CODE     PO_NAME STATE   ZCTA\n",
       "0    00501  Holtsville    NY  11742\n",
       "1    00544  Holtsville    NY  11742\n",
       "2    00601    Adjuntas    PR  00601\n",
       "3    00602      Aguada    PR  00602\n",
       "4    00603   Aguadilla    PR  00603"
      ]
     },
     "execution_count": 20,
     "metadata": {},
     "output_type": "execute_result"
    }
   ],
   "source": [
    "# Remove unnecessary columns to refine dataset\n",
    "final_zip_to_zcta = zip_to_zcta_df[[\"ZIP_CODE\", \"PO_NAME\", \"STATE\", \"ZCTA\"]]\n",
    "final_zip_to_zcta.head()"
   ]
  },
  {
   "cell_type": "code",
   "execution_count": 21,
   "metadata": {},
   "outputs": [
    {
     "data": {
      "text/html": [
       "<div>\n",
       "<style scoped>\n",
       "    .dataframe tbody tr th:only-of-type {\n",
       "        vertical-align: middle;\n",
       "    }\n",
       "\n",
       "    .dataframe tbody tr th {\n",
       "        vertical-align: top;\n",
       "    }\n",
       "\n",
       "    .dataframe thead th {\n",
       "        text-align: right;\n",
       "    }\n",
       "</style>\n",
       "<table border=\"1\" class=\"dataframe\">\n",
       "  <thead>\n",
       "    <tr style=\"text-align: right;\">\n",
       "      <th></th>\n",
       "      <th>zip_code</th>\n",
       "      <th>city_or_po_name</th>\n",
       "      <th>state</th>\n",
       "      <th>ZCTA</th>\n",
       "    </tr>\n",
       "  </thead>\n",
       "  <tbody>\n",
       "    <tr>\n",
       "      <th>0</th>\n",
       "      <td>00501</td>\n",
       "      <td>Holtsville</td>\n",
       "      <td>NY</td>\n",
       "      <td>11742</td>\n",
       "    </tr>\n",
       "    <tr>\n",
       "      <th>1</th>\n",
       "      <td>00544</td>\n",
       "      <td>Holtsville</td>\n",
       "      <td>NY</td>\n",
       "      <td>11742</td>\n",
       "    </tr>\n",
       "    <tr>\n",
       "      <th>2</th>\n",
       "      <td>00601</td>\n",
       "      <td>Adjuntas</td>\n",
       "      <td>PR</td>\n",
       "      <td>00601</td>\n",
       "    </tr>\n",
       "    <tr>\n",
       "      <th>3</th>\n",
       "      <td>00602</td>\n",
       "      <td>Aguada</td>\n",
       "      <td>PR</td>\n",
       "      <td>00602</td>\n",
       "    </tr>\n",
       "    <tr>\n",
       "      <th>4</th>\n",
       "      <td>00603</td>\n",
       "      <td>Aguadilla</td>\n",
       "      <td>PR</td>\n",
       "      <td>00603</td>\n",
       "    </tr>\n",
       "  </tbody>\n",
       "</table>\n",
       "</div>"
      ],
      "text/plain": [
       "  zip_code city_or_po_name state   ZCTA\n",
       "0    00501      Holtsville    NY  11742\n",
       "1    00544      Holtsville    NY  11742\n",
       "2    00601        Adjuntas    PR  00601\n",
       "3    00602          Aguada    PR  00602\n",
       "4    00603       Aguadilla    PR  00603"
      ]
     },
     "execution_count": 21,
     "metadata": {},
     "output_type": "execute_result"
    }
   ],
   "source": [
    "# Change ZIP_CODE into zip_code\n",
    "clean_zip_to_zcta = final_zip_to_zcta.rename(columns={\"ZIP_CODE\": \"zip_code\", \"PO_NAME\": \"city_or_po_name\", \"STATE\": \"state\"})\n",
    "clean_zip_to_zcta.head()"
   ]
  },
  {
   "cell_type": "code",
   "execution_count": 22,
   "metadata": {},
   "outputs": [],
   "source": [
    "clean_zip_to_zcta.to_csv(\"clean_zip_to_zcta.csv\", index=False)"
   ]
  },
  {
   "cell_type": "markdown",
   "metadata": {},
   "source": []
  },
  {
   "cell_type": "markdown",
   "metadata": {},
   "source": [
    "### Test merging against ZCTA in the census table"
   ]
  },
  {
   "cell_type": "code",
   "execution_count": null,
   "metadata": {},
   "outputs": [],
   "source": [
    "census_df = pd.read_csv(\"../02_transform_census/clean_census.csv\", dtype={'ZCTA': 'str'})\n",
    "census_df.head()"
   ]
  },
  {
   "cell_type": "code",
   "execution_count": null,
   "metadata": {},
   "outputs": [],
   "source": [
    "census_df.info()"
   ]
  },
  {
   "cell_type": "code",
   "execution_count": null,
   "metadata": {},
   "outputs": [],
   "source": [
    "zcta_census = pd.merge(census_df, zip_to_zcta_df, how=\"outer\", on=\"ZCTA\")\n",
    "zcta_census.head()"
   ]
  },
  {
   "cell_type": "code",
   "execution_count": null,
   "metadata": {},
   "outputs": [],
   "source": [
    "zcta_census.info()"
   ]
  },
  {
   "cell_type": "markdown",
   "metadata": {},
   "source": [
    "Comparing the number of non-null ZCTA (41099) and non-null zip_code (41098), there is one ZCTA in the census table without a matching ZCTA in the zip_to_zcta table."
   ]
  },
  {
   "cell_type": "code",
   "execution_count": null,
   "metadata": {},
   "outputs": [],
   "source": [
    "zcta_census[zcta_census[\"zip_code\"].isnull()]"
   ]
  },
  {
   "cell_type": "code",
   "execution_count": null,
   "metadata": {},
   "outputs": [],
   "source": [
    "zcta_to_remove = zcta_census[zcta_census[\"zip_code\"].isnull()][\"ZCTA\"].to_list()\n",
    "zcta_to_remove"
   ]
  },
  {
   "cell_type": "code",
   "execution_count": null,
   "metadata": {},
   "outputs": [],
   "source": [
    "census_df = census_df[~census_df[\"ZCTA\"].isin(zcta_to_remove)]"
   ]
  },
  {
   "cell_type": "code",
   "execution_count": null,
   "metadata": {},
   "outputs": [],
   "source": [
    "census_df.info()"
   ]
  },
  {
   "cell_type": "code",
   "execution_count": null,
   "metadata": {},
   "outputs": [],
   "source": [
    "# Update to census csv\n",
    "census_df.to_csv('../02_transform_census/clean_census.csv', index=False)"
   ]
  },
  {
   "cell_type": "markdown",
   "metadata": {},
   "source": [
    "### Export cleaned zip_to_zcta_df to csv"
   ]
  },
  {
   "cell_type": "code",
   "execution_count": null,
   "metadata": {},
   "outputs": [],
   "source": [
    "# Export ZIP_to_ZCTA dataframe into CSV file\n",
    "zip_to_zcta_df.to_csv('zcta.csv', index=False)"
   ]
  },
  {
   "cell_type": "code",
   "execution_count": null,
   "metadata": {},
   "outputs": [],
   "source": []
  }
 ],
 "metadata": {
  "kernelspec": {
   "display_name": "Python 3",
   "language": "python",
   "name": "python3"
  },
  "language_info": {
   "codemirror_mode": {
    "name": "ipython",
    "version": 3
   },
   "file_extension": ".py",
   "mimetype": "text/x-python",
   "name": "python",
   "nbconvert_exporter": "python",
   "pygments_lexer": "ipython3",
   "version": "3.7.6"
  },
  "toc": {
   "base_numbering": 1,
   "nav_menu": {},
   "number_sections": true,
   "sideBar": true,
   "skip_h1_title": false,
   "title_cell": "Table of Contents",
   "title_sidebar": "Contents",
   "toc_cell": false,
   "toc_position": {},
   "toc_section_display": true,
   "toc_window_display": false
  },
  "varInspector": {
   "cols": {
    "lenName": 16,
    "lenType": 16,
    "lenVar": 40
   },
   "kernels_config": {
    "python": {
     "delete_cmd_postfix": "",
     "delete_cmd_prefix": "del ",
     "library": "var_list.py",
     "varRefreshCmd": "print(var_dic_list())"
    },
    "r": {
     "delete_cmd_postfix": ") ",
     "delete_cmd_prefix": "rm(",
     "library": "var_list.r",
     "varRefreshCmd": "cat(var_dic_list()) "
    }
   },
   "types_to_exclude": [
    "module",
    "function",
    "builtin_function_or_method",
    "instance",
    "_Feature"
   ],
   "window_display": false
  }
 },
 "nbformat": 4,
 "nbformat_minor": 4
}
