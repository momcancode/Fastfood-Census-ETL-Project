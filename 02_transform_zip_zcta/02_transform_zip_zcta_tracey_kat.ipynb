{
 "cells": [
  {
   "cell_type": "code",
   "execution_count": 1,
   "metadata": {},
   "outputs": [],
   "source": [
    "# Dependencies\n",
    "import pandas as pd"
   ]
  },
  {
   "cell_type": "markdown",
   "metadata": {},
   "source": [
    "### Transform the zip_to_zcta dataframe"
   ]
  },
  {
   "cell_type": "code",
   "execution_count": 2,
   "metadata": {},
   "outputs": [],
   "source": [
    "# Import ZIP to ZCTA conversion table. All fields were imported as string to ensure the ZIP Codes retains the \"00\" prefixes \n",
    "zip_to_zcta_df = pd.read_excel(\"../00_input/zip_to_zcta_2019.xlsx\", dtype = 'str')"
   ]
  },
  {
   "cell_type": "code",
   "execution_count": 3,
   "metadata": {},
   "outputs": [
    {
     "data": {
      "text/html": [
       "<div>\n",
       "<style scoped>\n",
       "    .dataframe tbody tr th:only-of-type {\n",
       "        vertical-align: middle;\n",
       "    }\n",
       "\n",
       "    .dataframe tbody tr th {\n",
       "        vertical-align: top;\n",
       "    }\n",
       "\n",
       "    .dataframe thead th {\n",
       "        text-align: right;\n",
       "    }\n",
       "</style>\n",
       "<table border=\"1\" class=\"dataframe\">\n",
       "  <thead>\n",
       "    <tr style=\"text-align: right;\">\n",
       "      <th></th>\n",
       "      <th>ZIP_CODE</th>\n",
       "      <th>PO_NAME</th>\n",
       "      <th>STATE</th>\n",
       "      <th>ZIP_TYPE</th>\n",
       "      <th>ZCTA</th>\n",
       "      <th>zip_join_type</th>\n",
       "    </tr>\n",
       "  </thead>\n",
       "  <tbody>\n",
       "    <tr>\n",
       "      <th>0</th>\n",
       "      <td>00501</td>\n",
       "      <td>Holtsville</td>\n",
       "      <td>NY</td>\n",
       "      <td>Post Office or large volume customer</td>\n",
       "      <td>11742</td>\n",
       "      <td>Spatial join to ZCTA</td>\n",
       "    </tr>\n",
       "    <tr>\n",
       "      <th>1</th>\n",
       "      <td>00544</td>\n",
       "      <td>Holtsville</td>\n",
       "      <td>NY</td>\n",
       "      <td>Post Office or large volume customer</td>\n",
       "      <td>11742</td>\n",
       "      <td>Spatial join to ZCTA</td>\n",
       "    </tr>\n",
       "    <tr>\n",
       "      <th>2</th>\n",
       "      <td>00601</td>\n",
       "      <td>Adjuntas</td>\n",
       "      <td>PR</td>\n",
       "      <td>Zip Code Area</td>\n",
       "      <td>00601</td>\n",
       "      <td>Zip Matches ZCTA</td>\n",
       "    </tr>\n",
       "    <tr>\n",
       "      <th>3</th>\n",
       "      <td>00602</td>\n",
       "      <td>Aguada</td>\n",
       "      <td>PR</td>\n",
       "      <td>Zip Code Area</td>\n",
       "      <td>00602</td>\n",
       "      <td>Zip Matches ZCTA</td>\n",
       "    </tr>\n",
       "    <tr>\n",
       "      <th>4</th>\n",
       "      <td>00603</td>\n",
       "      <td>Aguadilla</td>\n",
       "      <td>PR</td>\n",
       "      <td>Zip Code Area</td>\n",
       "      <td>00603</td>\n",
       "      <td>Zip Matches ZCTA</td>\n",
       "    </tr>\n",
       "  </tbody>\n",
       "</table>\n",
       "</div>"
      ],
      "text/plain": [
       "  ZIP_CODE     PO_NAME STATE                              ZIP_TYPE   ZCTA  \\\n",
       "0    00501  Holtsville    NY  Post Office or large volume customer  11742   \n",
       "1    00544  Holtsville    NY  Post Office or large volume customer  11742   \n",
       "2    00601    Adjuntas    PR                         Zip Code Area  00601   \n",
       "3    00602      Aguada    PR                         Zip Code Area  00602   \n",
       "4    00603   Aguadilla    PR                         Zip Code Area  00603   \n",
       "\n",
       "          zip_join_type  \n",
       "0  Spatial join to ZCTA  \n",
       "1  Spatial join to ZCTA  \n",
       "2      Zip Matches ZCTA  \n",
       "3      Zip Matches ZCTA  \n",
       "4      Zip Matches ZCTA  "
      ]
     },
     "execution_count": 3,
     "metadata": {},
     "output_type": "execute_result"
    }
   ],
   "source": [
    "# Check the ZIP/ZCTA dataframe data, particularly for retention of \"00\" for ZIP Codes\n",
    "zip_to_zcta_df.head()"
   ]
  },
  {
   "cell_type": "code",
   "execution_count": 4,
   "metadata": {},
   "outputs": [
    {
     "name": "stdout",
     "output_type": "stream",
     "text": [
      "<class 'pandas.core.frame.DataFrame'>\n",
      "RangeIndex: 41107 entries, 0 to 41106\n",
      "Data columns (total 6 columns):\n",
      " #   Column         Non-Null Count  Dtype \n",
      "---  ------         --------------  ----- \n",
      " 0   ZIP_CODE       41107 non-null  object\n",
      " 1   PO_NAME        41107 non-null  object\n",
      " 2   STATE          41106 non-null  object\n",
      " 3   ZIP_TYPE       41107 non-null  object\n",
      " 4   ZCTA           41107 non-null  object\n",
      " 5   zip_join_type  41107 non-null  object\n",
      "dtypes: object(6)\n",
      "memory usage: 1.9+ MB\n"
     ]
    }
   ],
   "source": [
    "# Review data types in ZIP/ZCTA dataframe\n",
    "zip_to_zcta_df.info()"
   ]
  },
  {
   "cell_type": "code",
   "execution_count": 5,
   "metadata": {},
   "outputs": [
    {
     "data": {
      "text/html": [
       "<div>\n",
       "<style scoped>\n",
       "    .dataframe tbody tr th:only-of-type {\n",
       "        vertical-align: middle;\n",
       "    }\n",
       "\n",
       "    .dataframe tbody tr th {\n",
       "        vertical-align: top;\n",
       "    }\n",
       "\n",
       "    .dataframe thead th {\n",
       "        text-align: right;\n",
       "    }\n",
       "</style>\n",
       "<table border=\"1\" class=\"dataframe\">\n",
       "  <thead>\n",
       "    <tr style=\"text-align: right;\">\n",
       "      <th></th>\n",
       "      <th>ZIP_CODE</th>\n",
       "      <th>ZCTA</th>\n",
       "    </tr>\n",
       "  </thead>\n",
       "  <tbody>\n",
       "    <tr>\n",
       "      <th>0</th>\n",
       "      <td>00501</td>\n",
       "      <td>11742</td>\n",
       "    </tr>\n",
       "    <tr>\n",
       "      <th>1</th>\n",
       "      <td>00544</td>\n",
       "      <td>11742</td>\n",
       "    </tr>\n",
       "    <tr>\n",
       "      <th>2</th>\n",
       "      <td>00601</td>\n",
       "      <td>00601</td>\n",
       "    </tr>\n",
       "    <tr>\n",
       "      <th>3</th>\n",
       "      <td>00602</td>\n",
       "      <td>00602</td>\n",
       "    </tr>\n",
       "    <tr>\n",
       "      <th>4</th>\n",
       "      <td>00603</td>\n",
       "      <td>00603</td>\n",
       "    </tr>\n",
       "  </tbody>\n",
       "</table>\n",
       "</div>"
      ],
      "text/plain": [
       "  ZIP_CODE   ZCTA\n",
       "0    00501  11742\n",
       "1    00544  11742\n",
       "2    00601  00601\n",
       "3    00602  00602\n",
       "4    00603  00603"
      ]
     },
     "execution_count": 5,
     "metadata": {},
     "output_type": "execute_result"
    }
   ],
   "source": [
    "# Remove unnecessary columns to refine dataset\n",
    "zip_to_zcta_df.drop(columns=['PO_NAME', 'STATE', 'ZIP_TYPE', 'zip_join_type'], inplace=True)\n",
    "zip_to_zcta_df.head()"
   ]
  },
  {
   "cell_type": "code",
   "execution_count": 6,
   "metadata": {},
   "outputs": [
    {
     "name": "stdout",
     "output_type": "stream",
     "text": [
      "Max zip_code length is 5.\n",
      "Min zip_code length is 5.\n"
     ]
    }
   ],
   "source": [
    "# Check the minimum and maximum length of values in column ZIP_CODE\n",
    "zip_code_len = zip_to_zcta_df[\"ZIP_CODE\"].apply(len)\n",
    "print(f\"Max zip_code length is {zip_code_len.max()}.\")\n",
    "print(f\"Min zip_code length is {zip_code_len.min()}.\")"
   ]
  },
  {
   "cell_type": "code",
   "execution_count": 7,
   "metadata": {},
   "outputs": [
    {
     "name": "stdout",
     "output_type": "stream",
     "text": [
      "Max zcta length is 7.\n",
      "Min zcta length is 5.\n"
     ]
    }
   ],
   "source": [
    "# Check the minimum and maximum length of values in column ZCTA\n",
    "zcta_len = zip_to_zcta_df[\"ZCTA\"].apply(len)\n",
    "print(f\"Max zcta length is {zcta_len.max()}.\")\n",
    "print(f\"Min zcta length is {zcta_len.min()}.\")"
   ]
  },
  {
   "cell_type": "code",
   "execution_count": 8,
   "metadata": {},
   "outputs": [
    {
     "data": {
      "text/html": [
       "<div>\n",
       "<style scoped>\n",
       "    .dataframe tbody tr th:only-of-type {\n",
       "        vertical-align: middle;\n",
       "    }\n",
       "\n",
       "    .dataframe tbody tr th {\n",
       "        vertical-align: top;\n",
       "    }\n",
       "\n",
       "    .dataframe thead th {\n",
       "        text-align: right;\n",
       "    }\n",
       "</style>\n",
       "<table border=\"1\" class=\"dataframe\">\n",
       "  <thead>\n",
       "    <tr style=\"text-align: right;\">\n",
       "      <th></th>\n",
       "      <th>ZIP_CODE</th>\n",
       "      <th>ZCTA</th>\n",
       "    </tr>\n",
       "  </thead>\n",
       "  <tbody>\n",
       "    <tr>\n",
       "      <th>41098</th>\n",
       "      <td>96939</td>\n",
       "      <td>No ZCTA</td>\n",
       "    </tr>\n",
       "    <tr>\n",
       "      <th>41099</th>\n",
       "      <td>96940</td>\n",
       "      <td>No ZCTA</td>\n",
       "    </tr>\n",
       "    <tr>\n",
       "      <th>41100</th>\n",
       "      <td>96941</td>\n",
       "      <td>No ZCTA</td>\n",
       "    </tr>\n",
       "    <tr>\n",
       "      <th>41101</th>\n",
       "      <td>96942</td>\n",
       "      <td>No ZCTA</td>\n",
       "    </tr>\n",
       "    <tr>\n",
       "      <th>41102</th>\n",
       "      <td>96943</td>\n",
       "      <td>No ZCTA</td>\n",
       "    </tr>\n",
       "    <tr>\n",
       "      <th>41103</th>\n",
       "      <td>96944</td>\n",
       "      <td>No ZCTA</td>\n",
       "    </tr>\n",
       "    <tr>\n",
       "      <th>41104</th>\n",
       "      <td>96960</td>\n",
       "      <td>No ZCTA</td>\n",
       "    </tr>\n",
       "    <tr>\n",
       "      <th>41105</th>\n",
       "      <td>96970</td>\n",
       "      <td>No ZCTA</td>\n",
       "    </tr>\n",
       "    <tr>\n",
       "      <th>41106</th>\n",
       "      <td>96898</td>\n",
       "      <td>No ZCTA</td>\n",
       "    </tr>\n",
       "  </tbody>\n",
       "</table>\n",
       "</div>"
      ],
      "text/plain": [
       "      ZIP_CODE     ZCTA\n",
       "41098    96939  No ZCTA\n",
       "41099    96940  No ZCTA\n",
       "41100    96941  No ZCTA\n",
       "41101    96942  No ZCTA\n",
       "41102    96943  No ZCTA\n",
       "41103    96944  No ZCTA\n",
       "41104    96960  No ZCTA\n",
       "41105    96970  No ZCTA\n",
       "41106    96898  No ZCTA"
      ]
     },
     "execution_count": 8,
     "metadata": {},
     "output_type": "execute_result"
    }
   ],
   "source": [
    "# A look into rows with length of values in column ZCTA > 5 \n",
    "zip_to_zcta_df[zip_to_zcta_df.ZCTA.str.len() > zcta_len.min()]"
   ]
  },
  {
   "cell_type": "code",
   "execution_count": 9,
   "metadata": {},
   "outputs": [],
   "source": [
    "# Remove all rows with ZCTA = \"No ZCTA\"\n",
    "zip_to_zcta_df = zip_to_zcta_df[~(zip_to_zcta_df.ZCTA.str.len() > zcta_len.min())]"
   ]
  },
  {
   "cell_type": "code",
   "execution_count": 10,
   "metadata": {},
   "outputs": [
    {
     "name": "stdout",
     "output_type": "stream",
     "text": [
      "<class 'pandas.core.frame.DataFrame'>\n",
      "Int64Index: 41098 entries, 0 to 41097\n",
      "Data columns (total 2 columns):\n",
      " #   Column    Non-Null Count  Dtype \n",
      "---  ------    --------------  ----- \n",
      " 0   ZIP_CODE  41098 non-null  object\n",
      " 1   ZCTA      41098 non-null  object\n",
      "dtypes: object(2)\n",
      "memory usage: 963.2+ KB\n"
     ]
    }
   ],
   "source": [
    "zip_to_zcta_df.info()"
   ]
  },
  {
   "cell_type": "code",
   "execution_count": 11,
   "metadata": {},
   "outputs": [
    {
     "data": {
      "text/plain": [
       "41098"
      ]
     },
     "execution_count": 11,
     "metadata": {},
     "output_type": "execute_result"
    }
   ],
   "source": [
    "# Identify any duplicated ZIP Codes as all ZIP Codes should be unique (many ZIP Codes to one ZCTA relationship)\n",
    "zip_to_zcta_df['ZIP_CODE'].nunique()"
   ]
  },
  {
   "cell_type": "code",
   "execution_count": 12,
   "metadata": {},
   "outputs": [],
   "source": [
    "# Change ZIP_CODE into zip_code\n",
    "zip_to_zcta_df = zip_to_zcta_df.rename(columns={\"ZIP_CODE\": \"zip_code\"})"
   ]
  },
  {
   "cell_type": "markdown",
   "metadata": {},
   "source": [
    "### Test merging against zip_code in the restaurant table"
   ]
  },
  {
   "cell_type": "code",
   "execution_count": 14,
   "metadata": {},
   "outputs": [
    {
     "data": {
      "text/html": [
       "<div>\n",
       "<style scoped>\n",
       "    .dataframe tbody tr th:only-of-type {\n",
       "        vertical-align: middle;\n",
       "    }\n",
       "\n",
       "    .dataframe tbody tr th {\n",
       "        vertical-align: top;\n",
       "    }\n",
       "\n",
       "    .dataframe thead th {\n",
       "        text-align: right;\n",
       "    }\n",
       "</style>\n",
       "<table border=\"1\" class=\"dataframe\">\n",
       "  <thead>\n",
       "    <tr style=\"text-align: right;\">\n",
       "      <th></th>\n",
       "      <th>restaurant_id</th>\n",
       "      <th>street_no</th>\n",
       "      <th>street_name</th>\n",
       "      <th>zip_code</th>\n",
       "    </tr>\n",
       "  </thead>\n",
       "  <tbody>\n",
       "    <tr>\n",
       "      <th>0</th>\n",
       "      <td>1</td>\n",
       "      <td>800</td>\n",
       "      <td>N Canal Blvd</td>\n",
       "      <td>70301</td>\n",
       "    </tr>\n",
       "    <tr>\n",
       "      <th>1</th>\n",
       "      <td>1</td>\n",
       "      <td>124</td>\n",
       "      <td>John R Rd</td>\n",
       "      <td>48083</td>\n",
       "    </tr>\n",
       "    <tr>\n",
       "      <th>2</th>\n",
       "      <td>1</td>\n",
       "      <td>909</td>\n",
       "      <td>N Wood</td>\n",
       "      <td>75644</td>\n",
       "    </tr>\n",
       "    <tr>\n",
       "      <th>3</th>\n",
       "      <td>1</td>\n",
       "      <td>97</td>\n",
       "      <td>Gateway Blvd</td>\n",
       "      <td>82901</td>\n",
       "    </tr>\n",
       "    <tr>\n",
       "      <th>4</th>\n",
       "      <td>1</td>\n",
       "      <td>6557</td>\n",
       "      <td>S Staples St</td>\n",
       "      <td>78413</td>\n",
       "    </tr>\n",
       "  </tbody>\n",
       "</table>\n",
       "</div>"
      ],
      "text/plain": [
       "   restaurant_id street_no   street_name zip_code\n",
       "0              1       800  N Canal Blvd    70301\n",
       "1              1       124     John R Rd    48083\n",
       "2              1       909        N Wood    75644\n",
       "3              1        97  Gateway Blvd    82901\n",
       "4              1      6557  S Staples St    78413"
      ]
     },
     "execution_count": 14,
     "metadata": {},
     "output_type": "execute_result"
    }
   ],
   "source": [
    "# Import cleaned restaurant data\n",
    "restaurant_clean_df = pd.read_csv(\"../02_transform_restaurant/restaurant_address.csv\", dtype={'zip_code': 'str'})\n",
    "restaurant_clean_df.head()"
   ]
  },
  {
   "cell_type": "code",
   "execution_count": 15,
   "metadata": {},
   "outputs": [
    {
     "name": "stdout",
     "output_type": "stream",
     "text": [
      "<class 'pandas.core.frame.DataFrame'>\n",
      "RangeIndex: 9343 entries, 0 to 9342\n",
      "Data columns (total 4 columns):\n",
      " #   Column         Non-Null Count  Dtype \n",
      "---  ------         --------------  ----- \n",
      " 0   restaurant_id  9343 non-null   int64 \n",
      " 1   street_no      9343 non-null   object\n",
      " 2   street_name    9343 non-null   object\n",
      " 3   zip_code       9343 non-null   object\n",
      "dtypes: int64(1), object(3)\n",
      "memory usage: 292.1+ KB\n"
     ]
    }
   ],
   "source": [
    "# An overview of restaurant data\n",
    "restaurant_clean_df.info()"
   ]
  },
  {
   "cell_type": "code",
   "execution_count": 16,
   "metadata": {},
   "outputs": [
    {
     "data": {
      "text/html": [
       "<div>\n",
       "<style scoped>\n",
       "    .dataframe tbody tr th:only-of-type {\n",
       "        vertical-align: middle;\n",
       "    }\n",
       "\n",
       "    .dataframe tbody tr th {\n",
       "        vertical-align: top;\n",
       "    }\n",
       "\n",
       "    .dataframe thead th {\n",
       "        text-align: right;\n",
       "    }\n",
       "</style>\n",
       "<table border=\"1\" class=\"dataframe\">\n",
       "  <thead>\n",
       "    <tr style=\"text-align: right;\">\n",
       "      <th></th>\n",
       "      <th>restaurant_id</th>\n",
       "      <th>street_no</th>\n",
       "      <th>street_name</th>\n",
       "      <th>zip_code</th>\n",
       "      <th>ZCTA</th>\n",
       "    </tr>\n",
       "  </thead>\n",
       "  <tbody>\n",
       "    <tr>\n",
       "      <th>0</th>\n",
       "      <td>1</td>\n",
       "      <td>800</td>\n",
       "      <td>N Canal Blvd</td>\n",
       "      <td>70301</td>\n",
       "      <td>70301</td>\n",
       "    </tr>\n",
       "    <tr>\n",
       "      <th>1</th>\n",
       "      <td>17</td>\n",
       "      <td>1020</td>\n",
       "      <td>S Acadia Rd</td>\n",
       "      <td>70301</td>\n",
       "      <td>70301</td>\n",
       "    </tr>\n",
       "    <tr>\n",
       "      <th>2</th>\n",
       "      <td>96</td>\n",
       "      <td>204</td>\n",
       "      <td>N Canal Blvd</td>\n",
       "      <td>70301</td>\n",
       "      <td>70301</td>\n",
       "    </tr>\n",
       "    <tr>\n",
       "      <th>3</th>\n",
       "      <td>542</td>\n",
       "      <td>612</td>\n",
       "      <td>N Canal Blvd</td>\n",
       "      <td>70301</td>\n",
       "      <td>70301</td>\n",
       "    </tr>\n",
       "    <tr>\n",
       "      <th>4</th>\n",
       "      <td>1</td>\n",
       "      <td>124</td>\n",
       "      <td>John R Rd</td>\n",
       "      <td>48083</td>\n",
       "      <td>48083</td>\n",
       "    </tr>\n",
       "  </tbody>\n",
       "</table>\n",
       "</div>"
      ],
      "text/plain": [
       "   restaurant_id street_no   street_name zip_code   ZCTA\n",
       "0              1       800  N Canal Blvd    70301  70301\n",
       "1             17      1020   S Acadia Rd    70301  70301\n",
       "2             96       204  N Canal Blvd    70301  70301\n",
       "3            542       612  N Canal Blvd    70301  70301\n",
       "4              1       124     John R Rd    48083  48083"
      ]
     },
     "execution_count": 16,
     "metadata": {},
     "output_type": "execute_result"
    }
   ],
   "source": [
    "# Merge restaurant data with zip_to_zcta data based on zip_code\n",
    "restaurant_df_with_zcta = pd.merge(restaurant_clean_df, zip_to_zcta_df, on=\"zip_code\")\n",
    "restaurant_df_with_zcta.head()"
   ]
  },
  {
   "cell_type": "code",
   "execution_count": 17,
   "metadata": {},
   "outputs": [
    {
     "name": "stdout",
     "output_type": "stream",
     "text": [
      "<class 'pandas.core.frame.DataFrame'>\n",
      "Int64Index: 9343 entries, 0 to 9342\n",
      "Data columns (total 5 columns):\n",
      " #   Column         Non-Null Count  Dtype \n",
      "---  ------         --------------  ----- \n",
      " 0   restaurant_id  9343 non-null   int64 \n",
      " 1   street_no      9343 non-null   object\n",
      " 2   street_name    9343 non-null   object\n",
      " 3   zip_code       9343 non-null   object\n",
      " 4   ZCTA           9343 non-null   object\n",
      "dtypes: int64(1), object(4)\n",
      "memory usage: 438.0+ KB\n"
     ]
    }
   ],
   "source": [
    "# Overview of restaurant data after merging --> all zip_codes in restaurant data have a matching ZCTA\n",
    "restaurant_df_with_zcta.info()"
   ]
  },
  {
   "cell_type": "code",
   "execution_count": 18,
   "metadata": {},
   "outputs": [
    {
     "data": {
      "text/html": [
       "<div>\n",
       "<style scoped>\n",
       "    .dataframe tbody tr th:only-of-type {\n",
       "        vertical-align: middle;\n",
       "    }\n",
       "\n",
       "    .dataframe tbody tr th {\n",
       "        vertical-align: top;\n",
       "    }\n",
       "\n",
       "    .dataframe thead th {\n",
       "        text-align: right;\n",
       "    }\n",
       "</style>\n",
       "<table border=\"1\" class=\"dataframe\">\n",
       "  <thead>\n",
       "    <tr style=\"text-align: right;\">\n",
       "      <th></th>\n",
       "      <th>restaurant_id</th>\n",
       "      <th>street_no</th>\n",
       "      <th>street_name</th>\n",
       "      <th>zip_code</th>\n",
       "      <th>ZCTA</th>\n",
       "    </tr>\n",
       "  </thead>\n",
       "  <tbody>\n",
       "    <tr>\n",
       "      <th>2100</th>\n",
       "      <td>2</td>\n",
       "      <td>3197</td>\n",
       "      <td>W 5400 S</td>\n",
       "      <td>84129</td>\n",
       "      <td>84118</td>\n",
       "    </tr>\n",
       "    <tr>\n",
       "      <th>2705</th>\n",
       "      <td>3</td>\n",
       "      <td>4303</td>\n",
       "      <td>Prospect Ave</td>\n",
       "      <td>62524</td>\n",
       "      <td>62526</td>\n",
       "    </tr>\n",
       "    <tr>\n",
       "      <th>3163</th>\n",
       "      <td>3</td>\n",
       "      <td>787</td>\n",
       "      <td>Erie Blvd W</td>\n",
       "      <td>13201</td>\n",
       "      <td>13202</td>\n",
       "    </tr>\n",
       "    <tr>\n",
       "      <th>4096</th>\n",
       "      <td>5</td>\n",
       "      <td>5757</td>\n",
       "      <td>Wayne Newton Blvd</td>\n",
       "      <td>89111</td>\n",
       "      <td>89119</td>\n",
       "    </tr>\n",
       "    <tr>\n",
       "      <th>6802</th>\n",
       "      <td>17</td>\n",
       "      <td>250</td>\n",
       "      <td>Summit Park Dr</td>\n",
       "      <td>15275</td>\n",
       "      <td>15108</td>\n",
       "    </tr>\n",
       "    <tr>\n",
       "      <th>6803</th>\n",
       "      <td>17</td>\n",
       "      <td>100</td>\n",
       "      <td>Davis Blvd</td>\n",
       "      <td>15275</td>\n",
       "      <td>15108</td>\n",
       "    </tr>\n",
       "    <tr>\n",
       "      <th>6970</th>\n",
       "      <td>17</td>\n",
       "      <td>9500</td>\n",
       "      <td>Euclid Ave</td>\n",
       "      <td>44195</td>\n",
       "      <td>44106</td>\n",
       "    </tr>\n",
       "    <tr>\n",
       "      <th>7494</th>\n",
       "      <td>26</td>\n",
       "      <td>6986</td>\n",
       "      <td>Chestnut St</td>\n",
       "      <td>95021</td>\n",
       "      <td>95020</td>\n",
       "    </tr>\n",
       "    <tr>\n",
       "      <th>8612</th>\n",
       "      <td>77</td>\n",
       "      <td>169</td>\n",
       "      <td>International Ctr</td>\n",
       "      <td>48824</td>\n",
       "      <td>48825</td>\n",
       "    </tr>\n",
       "    <tr>\n",
       "      <th>8656</th>\n",
       "      <td>77</td>\n",
       "      <td>1400</td>\n",
       "      <td>R St</td>\n",
       "      <td>68588</td>\n",
       "      <td>68508</td>\n",
       "    </tr>\n",
       "    <tr>\n",
       "      <th>8803</th>\n",
       "      <td>98</td>\n",
       "      <td>800</td>\n",
       "      <td>S Gay St</td>\n",
       "      <td>37929</td>\n",
       "      <td>37902</td>\n",
       "    </tr>\n",
       "    <tr>\n",
       "      <th>8864</th>\n",
       "      <td>98</td>\n",
       "      <td>4000</td>\n",
       "      <td>Central Florida Blvd</td>\n",
       "      <td>32816</td>\n",
       "      <td>32826</td>\n",
       "    </tr>\n",
       "    <tr>\n",
       "      <th>8924</th>\n",
       "      <td>116</td>\n",
       "      <td>6425</td>\n",
       "      <td>Burnet Rd</td>\n",
       "      <td>73301</td>\n",
       "      <td>78704</td>\n",
       "    </tr>\n",
       "    <tr>\n",
       "      <th>8964</th>\n",
       "      <td>126</td>\n",
       "      <td>1</td>\n",
       "      <td>Medical Dr</td>\n",
       "      <td>27599</td>\n",
       "      <td>27514</td>\n",
       "    </tr>\n",
       "    <tr>\n",
       "      <th>9031</th>\n",
       "      <td>149</td>\n",
       "      <td>255</td>\n",
       "      <td>Washington St</td>\n",
       "      <td>02201</td>\n",
       "      <td>02203</td>\n",
       "    </tr>\n",
       "    <tr>\n",
       "      <th>9065</th>\n",
       "      <td>163</td>\n",
       "      <td>1000</td>\n",
       "      <td>Airport Blvd</td>\n",
       "      <td>15231</td>\n",
       "      <td>15108</td>\n",
       "    </tr>\n",
       "  </tbody>\n",
       "</table>\n",
       "</div>"
      ],
      "text/plain": [
       "      restaurant_id street_no           street_name zip_code   ZCTA\n",
       "2100              2      3197              W 5400 S    84129  84118\n",
       "2705              3      4303          Prospect Ave    62524  62526\n",
       "3163              3       787           Erie Blvd W    13201  13202\n",
       "4096              5      5757     Wayne Newton Blvd    89111  89119\n",
       "6802             17       250        Summit Park Dr    15275  15108\n",
       "6803             17       100            Davis Blvd    15275  15108\n",
       "6970             17      9500            Euclid Ave    44195  44106\n",
       "7494             26      6986           Chestnut St    95021  95020\n",
       "8612             77       169     International Ctr    48824  48825\n",
       "8656             77      1400                  R St    68588  68508\n",
       "8803             98       800              S Gay St    37929  37902\n",
       "8864             98      4000  Central Florida Blvd    32816  32826\n",
       "8924            116      6425             Burnet Rd    73301  78704\n",
       "8964            126         1            Medical Dr    27599  27514\n",
       "9031            149       255         Washington St    02201  02203\n",
       "9065            163      1000          Airport Blvd    15231  15108"
      ]
     },
     "execution_count": 18,
     "metadata": {},
     "output_type": "execute_result"
    }
   ],
   "source": [
    "# Overview of rows with zip_codes different from ZCTA\n",
    "restaurant_df_with_zcta[restaurant_df_with_zcta[\"zip_code\"] != restaurant_df_with_zcta[\"ZCTA\"]]"
   ]
  },
  {
   "cell_type": "markdown",
   "metadata": {},
   "source": [
    "### Export cleaned zip_to_zcta_df to csv"
   ]
  },
  {
   "cell_type": "code",
   "execution_count": 19,
   "metadata": {},
   "outputs": [],
   "source": [
    "# Export ZIP_to_ZCTA dataframe into CSV file\n",
    "zip_to_zcta_df.to_csv('zcta.csv', index=False)"
   ]
  },
  {
   "cell_type": "code",
   "execution_count": null,
   "metadata": {},
   "outputs": [],
   "source": []
  }
 ],
 "metadata": {
  "kernelspec": {
   "display_name": "Python 3",
   "language": "python",
   "name": "python3"
  },
  "language_info": {
   "codemirror_mode": {
    "name": "ipython",
    "version": 3
   },
   "file_extension": ".py",
   "mimetype": "text/x-python",
   "name": "python",
   "nbconvert_exporter": "python",
   "pygments_lexer": "ipython3",
   "version": "3.7.6"
  },
  "toc": {
   "base_numbering": 1,
   "nav_menu": {},
   "number_sections": true,
   "sideBar": true,
   "skip_h1_title": false,
   "title_cell": "Table of Contents",
   "title_sidebar": "Contents",
   "toc_cell": false,
   "toc_position": {},
   "toc_section_display": true,
   "toc_window_display": false
  },
  "varInspector": {
   "cols": {
    "lenName": 16,
    "lenType": 16,
    "lenVar": 40
   },
   "kernels_config": {
    "python": {
     "delete_cmd_postfix": "",
     "delete_cmd_prefix": "del ",
     "library": "var_list.py",
     "varRefreshCmd": "print(var_dic_list())"
    },
    "r": {
     "delete_cmd_postfix": ") ",
     "delete_cmd_prefix": "rm(",
     "library": "var_list.r",
     "varRefreshCmd": "cat(var_dic_list()) "
    }
   },
   "types_to_exclude": [
    "module",
    "function",
    "builtin_function_or_method",
    "instance",
    "_Feature"
   ],
   "window_display": false
  }
 },
 "nbformat": 4,
 "nbformat_minor": 4
}
