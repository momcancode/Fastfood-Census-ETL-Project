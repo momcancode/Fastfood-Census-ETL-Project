{
 "cells": [
  {
   "cell_type": "code",
   "execution_count": 5,
   "metadata": {},
   "outputs": [],
   "source": [
    "# Dependencies\n",
    "import pandas as pd"
   ]
  },
  {
   "cell_type": "code",
   "execution_count": 6,
   "metadata": {},
   "outputs": [],
   "source": [
    "# Import ZIP to ZCTA conversion table. All fields were imported as string to ensure the ZIP Codes retains the \"00\" prefixes \n",
    "zip_to_zcta_df = pd.read_excel(\"../00_input/zip_to_zcta_2019.xlsx\", dtype = 'str')"
   ]
  },
  {
   "cell_type": "code",
   "execution_count": 7,
   "metadata": {},
   "outputs": [
    {
     "data": {
      "text/html": [
       "<div>\n",
       "<style scoped>\n",
       "    .dataframe tbody tr th:only-of-type {\n",
       "        vertical-align: middle;\n",
       "    }\n",
       "\n",
       "    .dataframe tbody tr th {\n",
       "        vertical-align: top;\n",
       "    }\n",
       "\n",
       "    .dataframe thead th {\n",
       "        text-align: right;\n",
       "    }\n",
       "</style>\n",
       "<table border=\"1\" class=\"dataframe\">\n",
       "  <thead>\n",
       "    <tr style=\"text-align: right;\">\n",
       "      <th></th>\n",
       "      <th>ZIP_CODE</th>\n",
       "      <th>PO_NAME</th>\n",
       "      <th>STATE</th>\n",
       "      <th>ZIP_TYPE</th>\n",
       "      <th>ZCTA</th>\n",
       "      <th>zip_join_type</th>\n",
       "    </tr>\n",
       "  </thead>\n",
       "  <tbody>\n",
       "    <tr>\n",
       "      <th>0</th>\n",
       "      <td>00501</td>\n",
       "      <td>Holtsville</td>\n",
       "      <td>NY</td>\n",
       "      <td>Post Office or large volume customer</td>\n",
       "      <td>11742</td>\n",
       "      <td>Spatial join to ZCTA</td>\n",
       "    </tr>\n",
       "    <tr>\n",
       "      <th>1</th>\n",
       "      <td>00544</td>\n",
       "      <td>Holtsville</td>\n",
       "      <td>NY</td>\n",
       "      <td>Post Office or large volume customer</td>\n",
       "      <td>11742</td>\n",
       "      <td>Spatial join to ZCTA</td>\n",
       "    </tr>\n",
       "    <tr>\n",
       "      <th>2</th>\n",
       "      <td>00601</td>\n",
       "      <td>Adjuntas</td>\n",
       "      <td>PR</td>\n",
       "      <td>Zip Code Area</td>\n",
       "      <td>00601</td>\n",
       "      <td>Zip Matches ZCTA</td>\n",
       "    </tr>\n",
       "    <tr>\n",
       "      <th>3</th>\n",
       "      <td>00602</td>\n",
       "      <td>Aguada</td>\n",
       "      <td>PR</td>\n",
       "      <td>Zip Code Area</td>\n",
       "      <td>00602</td>\n",
       "      <td>Zip Matches ZCTA</td>\n",
       "    </tr>\n",
       "    <tr>\n",
       "      <th>4</th>\n",
       "      <td>00603</td>\n",
       "      <td>Aguadilla</td>\n",
       "      <td>PR</td>\n",
       "      <td>Zip Code Area</td>\n",
       "      <td>00603</td>\n",
       "      <td>Zip Matches ZCTA</td>\n",
       "    </tr>\n",
       "  </tbody>\n",
       "</table>\n",
       "</div>"
      ],
      "text/plain": [
       "  ZIP_CODE     PO_NAME STATE                              ZIP_TYPE   ZCTA  \\\n",
       "0    00501  Holtsville    NY  Post Office or large volume customer  11742   \n",
       "1    00544  Holtsville    NY  Post Office or large volume customer  11742   \n",
       "2    00601    Adjuntas    PR                         Zip Code Area  00601   \n",
       "3    00602      Aguada    PR                         Zip Code Area  00602   \n",
       "4    00603   Aguadilla    PR                         Zip Code Area  00603   \n",
       "\n",
       "          zip_join_type  \n",
       "0  Spatial join to ZCTA  \n",
       "1  Spatial join to ZCTA  \n",
       "2      Zip Matches ZCTA  \n",
       "3      Zip Matches ZCTA  \n",
       "4      Zip Matches ZCTA  "
      ]
     },
     "execution_count": 7,
     "metadata": {},
     "output_type": "execute_result"
    }
   ],
   "source": [
    "# Check the ZIP/ZCTA dataframe data, particularly for retention of \"00\" for ZIP Codes\n",
    "zip_to_zcta_df.head()"
   ]
  },
  {
   "cell_type": "code",
   "execution_count": 8,
   "metadata": {},
   "outputs": [
    {
     "name": "stdout",
     "output_type": "stream",
     "text": [
      "<class 'pandas.core.frame.DataFrame'>\n",
      "RangeIndex: 41107 entries, 0 to 41106\n",
      "Data columns (total 6 columns):\n",
      " #   Column         Non-Null Count  Dtype \n",
      "---  ------         --------------  ----- \n",
      " 0   ZIP_CODE       41107 non-null  object\n",
      " 1   PO_NAME        41107 non-null  object\n",
      " 2   STATE          41106 non-null  object\n",
      " 3   ZIP_TYPE       41107 non-null  object\n",
      " 4   ZCTA           41107 non-null  object\n",
      " 5   zip_join_type  41107 non-null  object\n",
      "dtypes: object(6)\n",
      "memory usage: 1.9+ MB\n"
     ]
    }
   ],
   "source": [
    "# Review data types in ZIP/ZCTA dataframe\n",
    "zip_to_zcta_df.info()"
   ]
  },
  {
   "cell_type": "code",
   "execution_count": 9,
   "metadata": {},
   "outputs": [
    {
     "name": "stdout",
     "output_type": "stream",
     "text": [
      "Max zip_code length is 5.\n",
      "Min zip_code length is 5.\n"
     ]
    }
   ],
   "source": [
    "# Check the minimum and maximum length of values in column ZIP_CODE\n",
    "zip_code_len = zip_to_zcta_df[\"ZIP_CODE\"].apply(len)\n",
    "print(f\"Max zip_code length is {zip_code_len.max()}.\")\n",
    "print(f\"Min zip_code length is {zip_code_len.min()}.\")"
   ]
  },
  {
   "cell_type": "code",
   "execution_count": 10,
   "metadata": {},
   "outputs": [
    {
     "name": "stdout",
     "output_type": "stream",
     "text": [
      "Max zcta length is 7.\n",
      "Min zcta length is 5.\n"
     ]
    }
   ],
   "source": [
    "# Check the minimum and maximum length of values in column ZCTA\n",
    "zcta_len = zip_to_zcta_df[\"ZCTA\"].apply(len)\n",
    "print(f\"Max zcta length is {zcta_len.max()}.\")\n",
    "print(f\"Min zcta length is {zcta_len.min()}.\")"
   ]
  },
  {
   "cell_type": "code",
   "execution_count": 11,
   "metadata": {},
   "outputs": [
    {
     "data": {
      "text/html": [
       "<div>\n",
       "<style scoped>\n",
       "    .dataframe tbody tr th:only-of-type {\n",
       "        vertical-align: middle;\n",
       "    }\n",
       "\n",
       "    .dataframe tbody tr th {\n",
       "        vertical-align: top;\n",
       "    }\n",
       "\n",
       "    .dataframe thead th {\n",
       "        text-align: right;\n",
       "    }\n",
       "</style>\n",
       "<table border=\"1\" class=\"dataframe\">\n",
       "  <thead>\n",
       "    <tr style=\"text-align: right;\">\n",
       "      <th></th>\n",
       "      <th>ZIP_CODE</th>\n",
       "      <th>PO_NAME</th>\n",
       "      <th>STATE</th>\n",
       "      <th>ZIP_TYPE</th>\n",
       "      <th>ZCTA</th>\n",
       "      <th>zip_join_type</th>\n",
       "    </tr>\n",
       "  </thead>\n",
       "  <tbody>\n",
       "    <tr>\n",
       "      <th>41098</th>\n",
       "      <td>96939</td>\n",
       "      <td>Ngerulmud</td>\n",
       "      <td>PW</td>\n",
       "      <td>Zip Code Area</td>\n",
       "      <td>No ZCTA</td>\n",
       "      <td>territory zip, no ZCTA available</td>\n",
       "    </tr>\n",
       "    <tr>\n",
       "      <th>41099</th>\n",
       "      <td>96940</td>\n",
       "      <td>Koror</td>\n",
       "      <td>PW</td>\n",
       "      <td>Post Office or large volume customer</td>\n",
       "      <td>No ZCTA</td>\n",
       "      <td>territory zip, no ZCTA available</td>\n",
       "    </tr>\n",
       "    <tr>\n",
       "      <th>41100</th>\n",
       "      <td>96941</td>\n",
       "      <td>Pohnpei</td>\n",
       "      <td>FM</td>\n",
       "      <td>Post Office or large volume customer</td>\n",
       "      <td>No ZCTA</td>\n",
       "      <td>territory zip, no ZCTA available</td>\n",
       "    </tr>\n",
       "    <tr>\n",
       "      <th>41101</th>\n",
       "      <td>96942</td>\n",
       "      <td>Chuuk</td>\n",
       "      <td>FM</td>\n",
       "      <td>Post Office or large volume customer</td>\n",
       "      <td>No ZCTA</td>\n",
       "      <td>territory zip, no ZCTA available</td>\n",
       "    </tr>\n",
       "    <tr>\n",
       "      <th>41102</th>\n",
       "      <td>96943</td>\n",
       "      <td>Yap</td>\n",
       "      <td>FM</td>\n",
       "      <td>Post Office or large volume customer</td>\n",
       "      <td>No ZCTA</td>\n",
       "      <td>territory zip, no ZCTA available</td>\n",
       "    </tr>\n",
       "    <tr>\n",
       "      <th>41103</th>\n",
       "      <td>96944</td>\n",
       "      <td>Kosrae</td>\n",
       "      <td>FM</td>\n",
       "      <td>Post Office or large volume customer</td>\n",
       "      <td>No ZCTA</td>\n",
       "      <td>territory zip, no ZCTA available</td>\n",
       "    </tr>\n",
       "    <tr>\n",
       "      <th>41104</th>\n",
       "      <td>96960</td>\n",
       "      <td>Majuro</td>\n",
       "      <td>MH</td>\n",
       "      <td>Post Office or large volume customer</td>\n",
       "      <td>No ZCTA</td>\n",
       "      <td>territory zip, no ZCTA available</td>\n",
       "    </tr>\n",
       "    <tr>\n",
       "      <th>41105</th>\n",
       "      <td>96970</td>\n",
       "      <td>Ebeye</td>\n",
       "      <td>MH</td>\n",
       "      <td>Post Office or large volume customer</td>\n",
       "      <td>No ZCTA</td>\n",
       "      <td>territory zip, no ZCTA available</td>\n",
       "    </tr>\n",
       "    <tr>\n",
       "      <th>41106</th>\n",
       "      <td>96898</td>\n",
       "      <td>Minor Outlying Islands</td>\n",
       "      <td>NaN</td>\n",
       "      <td>Post Office or large volume customer</td>\n",
       "      <td>No ZCTA</td>\n",
       "      <td>territory zip, no ZCTA available</td>\n",
       "    </tr>\n",
       "  </tbody>\n",
       "</table>\n",
       "</div>"
      ],
      "text/plain": [
       "      ZIP_CODE                 PO_NAME STATE  \\\n",
       "41098    96939               Ngerulmud    PW   \n",
       "41099    96940                   Koror    PW   \n",
       "41100    96941                 Pohnpei    FM   \n",
       "41101    96942                   Chuuk    FM   \n",
       "41102    96943                     Yap    FM   \n",
       "41103    96944                  Kosrae    FM   \n",
       "41104    96960                  Majuro    MH   \n",
       "41105    96970                   Ebeye    MH   \n",
       "41106    96898  Minor Outlying Islands   NaN   \n",
       "\n",
       "                                   ZIP_TYPE     ZCTA  \\\n",
       "41098                         Zip Code Area  No ZCTA   \n",
       "41099  Post Office or large volume customer  No ZCTA   \n",
       "41100  Post Office or large volume customer  No ZCTA   \n",
       "41101  Post Office or large volume customer  No ZCTA   \n",
       "41102  Post Office or large volume customer  No ZCTA   \n",
       "41103  Post Office or large volume customer  No ZCTA   \n",
       "41104  Post Office or large volume customer  No ZCTA   \n",
       "41105  Post Office or large volume customer  No ZCTA   \n",
       "41106  Post Office or large volume customer  No ZCTA   \n",
       "\n",
       "                          zip_join_type  \n",
       "41098  territory zip, no ZCTA available  \n",
       "41099  territory zip, no ZCTA available  \n",
       "41100  territory zip, no ZCTA available  \n",
       "41101  territory zip, no ZCTA available  \n",
       "41102  territory zip, no ZCTA available  \n",
       "41103  territory zip, no ZCTA available  \n",
       "41104  territory zip, no ZCTA available  \n",
       "41105  territory zip, no ZCTA available  \n",
       "41106  territory zip, no ZCTA available  "
      ]
     },
     "execution_count": 11,
     "metadata": {},
     "output_type": "execute_result"
    }
   ],
   "source": [
    "# A look into rows with length of values in column ZCTA > 5 \n",
    "zip_to_zcta_df[zip_to_zcta_df.ZCTA.str.len() > zcta_len.min()]"
   ]
  },
  {
   "cell_type": "code",
   "execution_count": 12,
   "metadata": {},
   "outputs": [],
   "source": [
    "# Remove all rows with ZCTA = \"No ZCTA\"\n",
    "zip_to_zcta_df = zip_to_zcta_df[~(zip_to_zcta_df.ZCTA.str.len() > zcta_len.min())]"
   ]
  },
  {
   "cell_type": "code",
   "execution_count": 13,
   "metadata": {},
   "outputs": [
    {
     "name": "stdout",
     "output_type": "stream",
     "text": [
      "<class 'pandas.core.frame.DataFrame'>\n",
      "Int64Index: 41098 entries, 0 to 41097\n",
      "Data columns (total 6 columns):\n",
      " #   Column         Non-Null Count  Dtype \n",
      "---  ------         --------------  ----- \n",
      " 0   ZIP_CODE       41098 non-null  object\n",
      " 1   PO_NAME        41098 non-null  object\n",
      " 2   STATE          41098 non-null  object\n",
      " 3   ZIP_TYPE       41098 non-null  object\n",
      " 4   ZCTA           41098 non-null  object\n",
      " 5   zip_join_type  41098 non-null  object\n",
      "dtypes: object(6)\n",
      "memory usage: 2.2+ MB\n"
     ]
    }
   ],
   "source": [
    "# Overview of the dataset after the removal\n",
    "zip_to_zcta_df.info()"
   ]
  },
  {
   "cell_type": "code",
   "execution_count": 14,
   "metadata": {},
   "outputs": [
    {
     "data": {
      "text/plain": [
       "41098"
      ]
     },
     "execution_count": 14,
     "metadata": {},
     "output_type": "execute_result"
    }
   ],
   "source": [
    "# Count the number of unique zip_codes\n",
    "\n",
    "zip_to_zcta_df['ZIP_CODE'].nunique()"
   ]
  },
  {
   "cell_type": "code",
   "execution_count": 15,
   "metadata": {},
   "outputs": [
    {
     "data": {
      "text/plain": [
       "33166"
      ]
     },
     "execution_count": 15,
     "metadata": {},
     "output_type": "execute_result"
    }
   ],
   "source": [
    "# Count the number of unique ZCTAs\n",
    "\n",
    "zip_to_zcta_df['ZCTA'].nunique()"
   ]
  },
  {
   "cell_type": "markdown",
   "metadata": {},
   "source": [
    "As there are more zip_codes than ZCTA, we suspect there are some ZCTAs that are matched against more than one zip_codes."
   ]
  },
  {
   "cell_type": "code",
   "execution_count": 16,
   "metadata": {},
   "outputs": [
    {
     "data": {
      "text/html": [
       "<div>\n",
       "<style scoped>\n",
       "    .dataframe tbody tr th:only-of-type {\n",
       "        vertical-align: middle;\n",
       "    }\n",
       "\n",
       "    .dataframe tbody tr th {\n",
       "        vertical-align: top;\n",
       "    }\n",
       "\n",
       "    .dataframe thead th {\n",
       "        text-align: right;\n",
       "    }\n",
       "</style>\n",
       "<table border=\"1\" class=\"dataframe\">\n",
       "  <thead>\n",
       "    <tr style=\"text-align: right;\">\n",
       "      <th></th>\n",
       "      <th>ZIP_CODE</th>\n",
       "      <th>PO_NAME</th>\n",
       "      <th>STATE</th>\n",
       "      <th>ZIP_TYPE</th>\n",
       "      <th>ZCTA</th>\n",
       "      <th>zip_join_type</th>\n",
       "    </tr>\n",
       "  </thead>\n",
       "  <tbody>\n",
       "    <tr>\n",
       "      <th>4</th>\n",
       "      <td>00603</td>\n",
       "      <td>Aguadilla</td>\n",
       "      <td>PR</td>\n",
       "      <td>Zip Code Area</td>\n",
       "      <td>00603</td>\n",
       "      <td>Zip Matches ZCTA</td>\n",
       "    </tr>\n",
       "    <tr>\n",
       "      <th>5</th>\n",
       "      <td>00604</td>\n",
       "      <td>Aguadilla</td>\n",
       "      <td>PR</td>\n",
       "      <td>Post Office or large volume customer</td>\n",
       "      <td>00603</td>\n",
       "      <td>Spatial join to ZCTA</td>\n",
       "    </tr>\n",
       "    <tr>\n",
       "      <th>6</th>\n",
       "      <td>00605</td>\n",
       "      <td>Aguadilla</td>\n",
       "      <td>PR</td>\n",
       "      <td>Post Office or large volume customer</td>\n",
       "      <td>00603</td>\n",
       "      <td>Spatial join to ZCTA</td>\n",
       "    </tr>\n",
       "    <tr>\n",
       "      <th>10</th>\n",
       "      <td>00612</td>\n",
       "      <td>Arecibo</td>\n",
       "      <td>PR</td>\n",
       "      <td>Zip Code Area</td>\n",
       "      <td>00612</td>\n",
       "      <td>Zip Matches ZCTA</td>\n",
       "    </tr>\n",
       "    <tr>\n",
       "      <th>11</th>\n",
       "      <td>00613</td>\n",
       "      <td>Arecibo</td>\n",
       "      <td>PR</td>\n",
       "      <td>Post Office or large volume customer</td>\n",
       "      <td>00612</td>\n",
       "      <td>Spatial join to ZCTA</td>\n",
       "    </tr>\n",
       "    <tr>\n",
       "      <th>...</th>\n",
       "      <td>...</td>\n",
       "      <td>...</td>\n",
       "      <td>...</td>\n",
       "      <td>...</td>\n",
       "      <td>...</td>\n",
       "      <td>...</td>\n",
       "    </tr>\n",
       "    <tr>\n",
       "      <th>41066</th>\n",
       "      <td>99850</td>\n",
       "      <td>Juneau</td>\n",
       "      <td>AK</td>\n",
       "      <td>Post Office or large volume customer</td>\n",
       "      <td>99801</td>\n",
       "      <td>Spatial join to ZCTA</td>\n",
       "    </tr>\n",
       "    <tr>\n",
       "      <th>41077</th>\n",
       "      <td>99928</td>\n",
       "      <td>Ward Cove</td>\n",
       "      <td>AK</td>\n",
       "      <td>Post Office or large volume customer</td>\n",
       "      <td>99901</td>\n",
       "      <td>Spatial join to ZCTA</td>\n",
       "    </tr>\n",
       "    <tr>\n",
       "      <th>41067</th>\n",
       "      <td>99901</td>\n",
       "      <td>Ketchikan</td>\n",
       "      <td>AK</td>\n",
       "      <td>Zip Code Area</td>\n",
       "      <td>99901</td>\n",
       "      <td>Zip Matches ZCTA</td>\n",
       "    </tr>\n",
       "    <tr>\n",
       "      <th>41071</th>\n",
       "      <td>99921</td>\n",
       "      <td>Craig</td>\n",
       "      <td>AK</td>\n",
       "      <td>Zip Code Area</td>\n",
       "      <td>99921</td>\n",
       "      <td>Zip Matches ZCTA</td>\n",
       "    </tr>\n",
       "    <tr>\n",
       "      <th>41079</th>\n",
       "      <td>99950</td>\n",
       "      <td>Ketchikan</td>\n",
       "      <td>AK</td>\n",
       "      <td>Zip Code Area</td>\n",
       "      <td>99921</td>\n",
       "      <td>Spatial join to ZCTA</td>\n",
       "    </tr>\n",
       "  </tbody>\n",
       "</table>\n",
       "<p>12878 rows × 6 columns</p>\n",
       "</div>"
      ],
      "text/plain": [
       "      ZIP_CODE    PO_NAME STATE                              ZIP_TYPE   ZCTA  \\\n",
       "4        00603  Aguadilla    PR                         Zip Code Area  00603   \n",
       "5        00604  Aguadilla    PR  Post Office or large volume customer  00603   \n",
       "6        00605  Aguadilla    PR  Post Office or large volume customer  00603   \n",
       "10       00612    Arecibo    PR                         Zip Code Area  00612   \n",
       "11       00613    Arecibo    PR  Post Office or large volume customer  00612   \n",
       "...        ...        ...   ...                                   ...    ...   \n",
       "41066    99850     Juneau    AK  Post Office or large volume customer  99801   \n",
       "41077    99928  Ward Cove    AK  Post Office or large volume customer  99901   \n",
       "41067    99901  Ketchikan    AK                         Zip Code Area  99901   \n",
       "41071    99921      Craig    AK                         Zip Code Area  99921   \n",
       "41079    99950  Ketchikan    AK                         Zip Code Area  99921   \n",
       "\n",
       "              zip_join_type  \n",
       "4          Zip Matches ZCTA  \n",
       "5      Spatial join to ZCTA  \n",
       "6      Spatial join to ZCTA  \n",
       "10         Zip Matches ZCTA  \n",
       "11     Spatial join to ZCTA  \n",
       "...                     ...  \n",
       "41066  Spatial join to ZCTA  \n",
       "41077  Spatial join to ZCTA  \n",
       "41067      Zip Matches ZCTA  \n",
       "41071      Zip Matches ZCTA  \n",
       "41079  Spatial join to ZCTA  \n",
       "\n",
       "[12878 rows x 6 columns]"
      ]
     },
     "execution_count": 16,
     "metadata": {},
     "output_type": "execute_result"
    }
   ],
   "source": [
    "# Overview of the duplicated ZCTAs\n",
    "duplicate_zcta_rows = zip_to_zcta_df[zip_to_zcta_df.duplicated(subset=[\"ZCTA\"], keep=False)].sort_values(by=\"ZCTA\")\n",
    "duplicate_zcta_rows"
   ]
  },
  {
   "cell_type": "markdown",
   "metadata": {},
   "source": [
    "> To ensure the flexibility in the zip_code and ZCTA mapping, we'll keep the relationship between zip in the zip_code data and ZCTA in the census data as many_to_many. This junction table of zip and ZCTA will have two composite primary keys to map ZCTA in the census data with zip_code in the zip_code data."
   ]
  },
  {
   "cell_type": "code",
   "execution_count": 17,
   "metadata": {},
   "outputs": [
    {
     "data": {
      "text/html": [
       "<div>\n",
       "<style scoped>\n",
       "    .dataframe tbody tr th:only-of-type {\n",
       "        vertical-align: middle;\n",
       "    }\n",
       "\n",
       "    .dataframe tbody tr th {\n",
       "        vertical-align: top;\n",
       "    }\n",
       "\n",
       "    .dataframe thead th {\n",
       "        text-align: right;\n",
       "    }\n",
       "</style>\n",
       "<table border=\"1\" class=\"dataframe\">\n",
       "  <thead>\n",
       "    <tr style=\"text-align: right;\">\n",
       "      <th></th>\n",
       "      <th>zip_code</th>\n",
       "      <th>PO_NAME</th>\n",
       "      <th>STATE</th>\n",
       "      <th>ZCTA</th>\n",
       "    </tr>\n",
       "  </thead>\n",
       "  <tbody>\n",
       "    <tr>\n",
       "      <th>0</th>\n",
       "      <td>00501</td>\n",
       "      <td>Holtsville</td>\n",
       "      <td>NY</td>\n",
       "      <td>11742</td>\n",
       "    </tr>\n",
       "    <tr>\n",
       "      <th>1</th>\n",
       "      <td>00544</td>\n",
       "      <td>Holtsville</td>\n",
       "      <td>NY</td>\n",
       "      <td>11742</td>\n",
       "    </tr>\n",
       "    <tr>\n",
       "      <th>2</th>\n",
       "      <td>00601</td>\n",
       "      <td>Adjuntas</td>\n",
       "      <td>PR</td>\n",
       "      <td>00601</td>\n",
       "    </tr>\n",
       "    <tr>\n",
       "      <th>3</th>\n",
       "      <td>00602</td>\n",
       "      <td>Aguada</td>\n",
       "      <td>PR</td>\n",
       "      <td>00602</td>\n",
       "    </tr>\n",
       "    <tr>\n",
       "      <th>4</th>\n",
       "      <td>00603</td>\n",
       "      <td>Aguadilla</td>\n",
       "      <td>PR</td>\n",
       "      <td>00603</td>\n",
       "    </tr>\n",
       "  </tbody>\n",
       "</table>\n",
       "</div>"
      ],
      "text/plain": [
       "  zip_code     PO_NAME STATE   ZCTA\n",
       "0    00501  Holtsville    NY  11742\n",
       "1    00544  Holtsville    NY  11742\n",
       "2    00601    Adjuntas    PR  00601\n",
       "3    00602      Aguada    PR  00602\n",
       "4    00603   Aguadilla    PR  00603"
      ]
     },
     "execution_count": 17,
     "metadata": {},
     "output_type": "execute_result"
    }
   ],
   "source": [
    "# Export a zip_to_zcta table with zip_code, po_name, state, ZCTA to match against zip_code, city and state in the zip_code table\n",
    "short_zip_zcta = zip_to_zcta_df[[\"ZIP_CODE\", \"PO_NAME\", \"STATE\", \"ZCTA\"]].rename(columns={\"ZIP_CODE\": \"zip_code\"})\n",
    "short_zip_zcta.head()"
   ]
  },
  {
   "cell_type": "code",
   "execution_count": 18,
   "metadata": {},
   "outputs": [],
   "source": [
    "short_zip_zcta.to_csv(\"zcta_to_match.csv\", index=False)"
   ]
  },
  {
   "cell_type": "code",
   "execution_count": 19,
   "metadata": {},
   "outputs": [
    {
     "data": {
      "text/html": [
       "<div>\n",
       "<style scoped>\n",
       "    .dataframe tbody tr th:only-of-type {\n",
       "        vertical-align: middle;\n",
       "    }\n",
       "\n",
       "    .dataframe tbody tr th {\n",
       "        vertical-align: top;\n",
       "    }\n",
       "\n",
       "    .dataframe thead th {\n",
       "        text-align: right;\n",
       "    }\n",
       "</style>\n",
       "<table border=\"1\" class=\"dataframe\">\n",
       "  <thead>\n",
       "    <tr style=\"text-align: right;\">\n",
       "      <th></th>\n",
       "      <th>zip_code</th>\n",
       "      <th>ZCTA</th>\n",
       "    </tr>\n",
       "  </thead>\n",
       "  <tbody>\n",
       "    <tr>\n",
       "      <th>0</th>\n",
       "      <td>00501</td>\n",
       "      <td>11742</td>\n",
       "    </tr>\n",
       "    <tr>\n",
       "      <th>1</th>\n",
       "      <td>00544</td>\n",
       "      <td>11742</td>\n",
       "    </tr>\n",
       "    <tr>\n",
       "      <th>2</th>\n",
       "      <td>00601</td>\n",
       "      <td>00601</td>\n",
       "    </tr>\n",
       "    <tr>\n",
       "      <th>3</th>\n",
       "      <td>00602</td>\n",
       "      <td>00602</td>\n",
       "    </tr>\n",
       "    <tr>\n",
       "      <th>4</th>\n",
       "      <td>00603</td>\n",
       "      <td>00603</td>\n",
       "    </tr>\n",
       "  </tbody>\n",
       "</table>\n",
       "</div>"
      ],
      "text/plain": [
       "  zip_code   ZCTA\n",
       "0    00501  11742\n",
       "1    00544  11742\n",
       "2    00601  00601\n",
       "3    00602  00602\n",
       "4    00603  00603"
      ]
     },
     "execution_count": 19,
     "metadata": {},
     "output_type": "execute_result"
    }
   ],
   "source": [
    "# Export a final zip_to_zcta table to load into the database\n",
    "final_zcta = short_zip_zcta[[\"zip_code\", \"ZCTA\"]]\n",
    "final_zcta.head()"
   ]
  },
  {
   "cell_type": "code",
   "execution_count": 20,
   "metadata": {},
   "outputs": [],
   "source": [
    "final_zcta.to_csv(\"zcta.csv\", index=False)"
   ]
  }
 ],
 "metadata": {
  "kernelspec": {
   "display_name": "Python 3",
   "language": "python",
   "name": "python3"
  },
  "language_info": {
   "codemirror_mode": {
    "name": "ipython",
    "version": 3
   },
   "file_extension": ".py",
   "mimetype": "text/x-python",
   "name": "python",
   "nbconvert_exporter": "python",
   "pygments_lexer": "ipython3",
   "version": "3.7.6"
  },
  "toc": {
   "base_numbering": 1,
   "nav_menu": {},
   "number_sections": true,
   "sideBar": true,
   "skip_h1_title": false,
   "title_cell": "Table of Contents",
   "title_sidebar": "Contents",
   "toc_cell": false,
   "toc_position": {},
   "toc_section_display": true,
   "toc_window_display": false
  },
  "varInspector": {
   "cols": {
    "lenName": 16,
    "lenType": 16,
    "lenVar": 40
   },
   "kernels_config": {
    "python": {
     "delete_cmd_postfix": "",
     "delete_cmd_prefix": "del ",
     "library": "var_list.py",
     "varRefreshCmd": "print(var_dic_list())"
    },
    "r": {
     "delete_cmd_postfix": ") ",
     "delete_cmd_prefix": "rm(",
     "library": "var_list.r",
     "varRefreshCmd": "cat(var_dic_list()) "
    }
   },
   "types_to_exclude": [
    "module",
    "function",
    "builtin_function_or_method",
    "instance",
    "_Feature"
   ],
   "window_display": false
  }
 },
 "nbformat": 4,
 "nbformat_minor": 4
}
