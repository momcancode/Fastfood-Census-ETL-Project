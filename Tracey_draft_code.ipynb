{
 "cells": [
  {
   "cell_type": "code",
   "execution_count": 1,
   "metadata": {},
   "outputs": [],
   "source": [
    "# Dependencies\n",
    "import pandas as pd\n",
    "from sqlalchemy import create_engine\n",
    "from census import Census\n",
    "\n",
    "# Import Census API Key and postgresql database password\n",
    "from config import (api_key, password)"
   ]
  },
  {
   "cell_type": "markdown",
   "metadata": {},
   "source": [
    "### Use Census API to get social economic data"
   ]
  },
  {
   "cell_type": "markdown",
   "metadata": {},
   "source": [
    "* See: https://github.com/CommerceDataService/census-wrapper for library documentation\n",
    "* See: https://www.census.gov/data/developers/data-sets/acs-5year.html for more details about ACS5"
   ]
  },
  {
   "cell_type": "code",
   "execution_count": 2,
   "metadata": {},
   "outputs": [],
   "source": [
    "# Connect to Census data in 2018 (the latest year available up-to-date)\n",
    "c = Census(api_key, year=2018)"
   ]
  },
  {
   "cell_type": "markdown",
   "metadata": {},
   "source": [
    "* See: https://gist.github.com/afhaque/60558290d6efd892351c4b64e5c01e9b for labels\n",
    "* Current metrics of interest:\n",
    "    * \"B19013_001E\": Median household income in the past 12 months\n",
    "    * \"B01003_001E\": Total population\n",
    "    * \"B01002_001E\": Median age\n",
    "    * \"B19301_001E\": Per capita income in the past 12 months\n",
    "    * \"B17001_002E\": Number of persons whose income in the past 12 months is below the poverty level\n",
    "    * \"B23025_005E\": Number of unemployed, age 16 or older, in the civilian labor force?\n",
    "\n",
    "**Are we interested in any other social economic metrics? like education or language? For example,\n",
    "    <br>\n",
    "    \"B15003_002E\": The number of persons age 25 and over who completed no schooling\n",
    "    <br>\n",
    "    \"B16001_002E\": Speak_only_English**\n",
    "\n",
    "**Should we have a seperate table for just different social economic metric labels (the json file is available in the above link)? --> data normalisation**"
   ]
  },
  {
   "cell_type": "code",
   "execution_count": 3,
   "metadata": {},
   "outputs": [],
   "source": [
    "# Run Census Search to retrieve data on all zip codes (2018 ACS5 Census)\n",
    "census_data = c.acs5.get((\"B19013_001E\",\n",
    "                          \"B01003_001E\",\n",
    "                          \"B01002_001E\",\n",
    "                          \"B19301_001E\",\n",
    "                          \"B17001_002E\",\n",
    "                          \"B23025_005E\"),\n",
    "                         {'for': 'zip code tabulation area:*'})"
   ]
  },
  {
   "cell_type": "markdown",
   "metadata": {},
   "source": [
    "https://www2.census.gov/data/api-documentation/how-to-download-all-zip-code-tabulation-areas-from-the-census-api.pdf?"
   ]
  },
  {
   "cell_type": "code",
   "execution_count": 4,
   "metadata": {},
   "outputs": [],
   "source": [
    "# Convert to DataFrame\n",
    "census_pd = pd.DataFrame(census_data)"
   ]
  },
  {
   "cell_type": "code",
   "execution_count": 5,
   "metadata": {},
   "outputs": [
    {
     "data": {
      "text/html": [
       "<div>\n",
       "<style scoped>\n",
       "    .dataframe tbody tr th:only-of-type {\n",
       "        vertical-align: middle;\n",
       "    }\n",
       "\n",
       "    .dataframe tbody tr th {\n",
       "        vertical-align: top;\n",
       "    }\n",
       "\n",
       "    .dataframe thead th {\n",
       "        text-align: right;\n",
       "    }\n",
       "</style>\n",
       "<table border=\"1\" class=\"dataframe\">\n",
       "  <thead>\n",
       "    <tr style=\"text-align: right;\">\n",
       "      <th></th>\n",
       "      <th>ZCTA</th>\n",
       "      <th>Population</th>\n",
       "      <th>Median Household Income</th>\n",
       "      <th>Per Capita Income</th>\n",
       "      <th>Poverty Count</th>\n",
       "      <th>Unemployment Count</th>\n",
       "      <th>Median Age</th>\n",
       "    </tr>\n",
       "  </thead>\n",
       "  <tbody>\n",
       "    <tr>\n",
       "      <th>0</th>\n",
       "      <td>00601</td>\n",
       "      <td>17242.0</td>\n",
       "      <td>13092.0</td>\n",
       "      <td>6999.0</td>\n",
       "      <td>10772.0</td>\n",
       "      <td>2316.0</td>\n",
       "      <td>40.5</td>\n",
       "    </tr>\n",
       "    <tr>\n",
       "      <th>1</th>\n",
       "      <td>00602</td>\n",
       "      <td>38442.0</td>\n",
       "      <td>16358.0</td>\n",
       "      <td>9277.0</td>\n",
       "      <td>19611.0</td>\n",
       "      <td>1927.0</td>\n",
       "      <td>42.3</td>\n",
       "    </tr>\n",
       "    <tr>\n",
       "      <th>2</th>\n",
       "      <td>00603</td>\n",
       "      <td>48814.0</td>\n",
       "      <td>16603.0</td>\n",
       "      <td>11307.0</td>\n",
       "      <td>24337.0</td>\n",
       "      <td>3124.0</td>\n",
       "      <td>41.1</td>\n",
       "    </tr>\n",
       "    <tr>\n",
       "      <th>3</th>\n",
       "      <td>00606</td>\n",
       "      <td>6437.0</td>\n",
       "      <td>12832.0</td>\n",
       "      <td>5943.0</td>\n",
       "      <td>4163.0</td>\n",
       "      <td>230.0</td>\n",
       "      <td>43.3</td>\n",
       "    </tr>\n",
       "    <tr>\n",
       "      <th>4</th>\n",
       "      <td>00610</td>\n",
       "      <td>27073.0</td>\n",
       "      <td>19309.0</td>\n",
       "      <td>10220.0</td>\n",
       "      <td>11724.0</td>\n",
       "      <td>1290.0</td>\n",
       "      <td>42.1</td>\n",
       "    </tr>\n",
       "  </tbody>\n",
       "</table>\n",
       "</div>"
      ],
      "text/plain": [
       "    ZCTA  Population  Median Household Income  Per Capita Income  \\\n",
       "0  00601     17242.0                  13092.0             6999.0   \n",
       "1  00602     38442.0                  16358.0             9277.0   \n",
       "2  00603     48814.0                  16603.0            11307.0   \n",
       "3  00606      6437.0                  12832.0             5943.0   \n",
       "4  00610     27073.0                  19309.0            10220.0   \n",
       "\n",
       "   Poverty Count  Unemployment Count  Median Age  \n",
       "0        10772.0              2316.0        40.5  \n",
       "1        19611.0              1927.0        42.3  \n",
       "2        24337.0              3124.0        41.1  \n",
       "3         4163.0               230.0        43.3  \n",
       "4        11724.0              1290.0        42.1  "
      ]
     },
     "execution_count": 5,
     "metadata": {},
     "output_type": "execute_result"
    }
   ],
   "source": [
    "# Column Reordering and Renaming\n",
    "census_pd = census_pd.rename(columns={\n",
    "    \"B19013_001E\": \"Median Household Income\",\n",
    "    \"B01003_001E\": \"Population\",\n",
    "    \"B01002_001E\": \"Median Age\",\n",
    "    \"B19301_001E\": \"Per Capita Income\",\n",
    "    \"B17001_002E\": \"Poverty Count\",\n",
    "    \"B23025_005E\": \"Unemployment Count\",\n",
    "    \"zip code tabulation area\": \"ZCTA\"})\n",
    "\n",
    "census_pd[[\"ZCTA\", \"Population\", \"Median Household Income\", \"Per Capita Income\",\n",
    "           \"Poverty Count\", \"Unemployment Count\", \"Median Age\"]].head()"
   ]
  },
  {
   "cell_type": "code",
   "execution_count": 6,
   "metadata": {},
   "outputs": [
    {
     "name": "stdout",
     "output_type": "stream",
     "text": [
      "<class 'pandas.core.frame.DataFrame'>\n",
      "RangeIndex: 33120 entries, 0 to 33119\n",
      "Data columns (total 7 columns):\n",
      " #   Column                   Non-Null Count  Dtype  \n",
      "---  ------                   --------------  -----  \n",
      " 0   Median Household Income  33085 non-null  float64\n",
      " 1   Population               33120 non-null  float64\n",
      " 2   Median Age               33120 non-null  float64\n",
      " 3   Per Capita Income        32776 non-null  float64\n",
      " 4   Poverty Count            33085 non-null  float64\n",
      " 5   Unemployment Count       33085 non-null  float64\n",
      " 6   ZCTA                     33120 non-null  object \n",
      "dtypes: float64(6), object(1)\n",
      "memory usage: 1.8+ MB\n"
     ]
    }
   ],
   "source": [
    "census_pd.info()"
   ]
  },
  {
   "cell_type": "markdown",
   "metadata": {},
   "source": [
    "Look like we have lots of **missing data**"
   ]
  },
  {
   "cell_type": "code",
   "execution_count": 7,
   "metadata": {},
   "outputs": [
    {
     "data": {
      "text/plain": [
       "33120"
      ]
     },
     "execution_count": 7,
     "metadata": {},
     "output_type": "execute_result"
    }
   ],
   "source": [
    "census_pd[\"ZCTA\"].nunique()"
   ]
  },
  {
   "cell_type": "code",
   "execution_count": 8,
   "metadata": {},
   "outputs": [],
   "source": [
    "# Save as a csv\n",
    "# Note to avoid any issues later, use encoding=\"utf-8\"\n",
    "census_pd.to_csv(\"data/census_data.csv\", encoding=\"utf-8\", index=False)"
   ]
  },
  {
   "cell_type": "code",
   "execution_count": null,
   "metadata": {},
   "outputs": [],
   "source": []
  },
  {
   "cell_type": "code",
   "execution_count": null,
   "metadata": {},
   "outputs": [],
   "source": []
  },
  {
   "cell_type": "markdown",
   "metadata": {},
   "source": [
    "### Extract CSVs into DataFrame"
   ]
  },
  {
   "cell_type": "markdown",
   "metadata": {},
   "source": [
    "https://data.world/datafiniti/fast-food-restaurants-across-america"
   ]
  },
  {
   "cell_type": "code",
   "execution_count": 9,
   "metadata": {},
   "outputs": [
    {
     "data": {
      "text/html": [
       "<div>\n",
       "<style scoped>\n",
       "    .dataframe tbody tr th:only-of-type {\n",
       "        vertical-align: middle;\n",
       "    }\n",
       "\n",
       "    .dataframe tbody tr th {\n",
       "        vertical-align: top;\n",
       "    }\n",
       "\n",
       "    .dataframe thead th {\n",
       "        text-align: right;\n",
       "    }\n",
       "</style>\n",
       "<table border=\"1\" class=\"dataframe\">\n",
       "  <thead>\n",
       "    <tr style=\"text-align: right;\">\n",
       "      <th></th>\n",
       "      <th>id</th>\n",
       "      <th>dateAdded</th>\n",
       "      <th>dateUpdated</th>\n",
       "      <th>address</th>\n",
       "      <th>categories</th>\n",
       "      <th>city</th>\n",
       "      <th>country</th>\n",
       "      <th>keys</th>\n",
       "      <th>latitude</th>\n",
       "      <th>longitude</th>\n",
       "      <th>name</th>\n",
       "      <th>postalCode</th>\n",
       "      <th>province</th>\n",
       "      <th>sourceURLs</th>\n",
       "      <th>websites</th>\n",
       "    </tr>\n",
       "  </thead>\n",
       "  <tbody>\n",
       "    <tr>\n",
       "      <th>0</th>\n",
       "      <td>AVwcmSyZIN2L1WUfmxyw</td>\n",
       "      <td>2015-10-19T23:47:58Z</td>\n",
       "      <td>2018-06-26T03:00:14Z</td>\n",
       "      <td>800 N Canal Blvd</td>\n",
       "      <td>American Restaurant and Fast Food Restaurant</td>\n",
       "      <td>Thibodaux</td>\n",
       "      <td>US</td>\n",
       "      <td>us/la/thibodaux/800ncanalblvd/1780593795</td>\n",
       "      <td>29.814697</td>\n",
       "      <td>-90.814742</td>\n",
       "      <td>SONIC Drive In</td>\n",
       "      <td>70301</td>\n",
       "      <td>LA</td>\n",
       "      <td>https://foursquare.com/v/sonic-drive-in/4b7361...</td>\n",
       "      <td>https://locations.sonicdrivein.com/la/thibodau...</td>\n",
       "    </tr>\n",
       "    <tr>\n",
       "      <th>1</th>\n",
       "      <td>AVwcmSyZIN2L1WUfmxyw</td>\n",
       "      <td>2015-10-19T23:47:58Z</td>\n",
       "      <td>2018-06-26T03:00:14Z</td>\n",
       "      <td>800 N Canal Blvd</td>\n",
       "      <td>Fast Food Restaurants</td>\n",
       "      <td>Thibodaux</td>\n",
       "      <td>US</td>\n",
       "      <td>us/la/thibodaux/800ncanalblvd/1780593795</td>\n",
       "      <td>29.814697</td>\n",
       "      <td>-90.814742</td>\n",
       "      <td>SONIC Drive In</td>\n",
       "      <td>70301</td>\n",
       "      <td>LA</td>\n",
       "      <td>https://foursquare.com/v/sonic-drive-in/4b7361...</td>\n",
       "      <td>https://locations.sonicdrivein.com/la/thibodau...</td>\n",
       "    </tr>\n",
       "    <tr>\n",
       "      <th>2</th>\n",
       "      <td>AVwcopQoByjofQCxgfVa</td>\n",
       "      <td>2016-03-29T05:06:36Z</td>\n",
       "      <td>2018-06-26T02:59:52Z</td>\n",
       "      <td>206 Wears Valley Rd</td>\n",
       "      <td>Fast Food Restaurant</td>\n",
       "      <td>Pigeon Forge</td>\n",
       "      <td>US</td>\n",
       "      <td>us/tn/pigeonforge/206wearsvalleyrd/-864103396</td>\n",
       "      <td>35.803788</td>\n",
       "      <td>-83.580553</td>\n",
       "      <td>Taco Bell</td>\n",
       "      <td>37863</td>\n",
       "      <td>TN</td>\n",
       "      <td>https://www.yellowpages.com/pigeon-forge-tn/mi...</td>\n",
       "      <td>http://www.tacobell.com,https://locations.taco...</td>\n",
       "    </tr>\n",
       "    <tr>\n",
       "      <th>3</th>\n",
       "      <td>AVweXN5RByjofQCxxilK</td>\n",
       "      <td>2017-01-03T07:46:11Z</td>\n",
       "      <td>2018-06-26T02:59:51Z</td>\n",
       "      <td>3652 Parkway</td>\n",
       "      <td>Fast Food</td>\n",
       "      <td>Pigeon Forge</td>\n",
       "      <td>US</td>\n",
       "      <td>us/tn/pigeonforge/3652parkway/93075755</td>\n",
       "      <td>35.782339</td>\n",
       "      <td>-83.551408</td>\n",
       "      <td>Arby's</td>\n",
       "      <td>37863</td>\n",
       "      <td>TN</td>\n",
       "      <td>http://www.yellowbook.com/profile/arbys_163389...</td>\n",
       "      <td>http://www.arbys.com,https://locations.arbys.c...</td>\n",
       "    </tr>\n",
       "    <tr>\n",
       "      <th>4</th>\n",
       "      <td>AWQ6MUvo3-Khe5l_j3SG</td>\n",
       "      <td>2018-06-26T02:59:43Z</td>\n",
       "      <td>2018-06-26T02:59:43Z</td>\n",
       "      <td>2118 Mt Zion Parkway</td>\n",
       "      <td>Fast Food Restaurant</td>\n",
       "      <td>Morrow</td>\n",
       "      <td>US</td>\n",
       "      <td>us/ga/morrow/2118mtzionparkway/1305117222</td>\n",
       "      <td>33.562738</td>\n",
       "      <td>-84.321143</td>\n",
       "      <td>Steak 'n Shake</td>\n",
       "      <td>30260</td>\n",
       "      <td>GA</td>\n",
       "      <td>https://foursquare.com/v/steak-n-shake/4bcf77a...</td>\n",
       "      <td>http://www.steaknshake.com/locations/23851-ste...</td>\n",
       "    </tr>\n",
       "  </tbody>\n",
       "</table>\n",
       "</div>"
      ],
      "text/plain": [
       "                     id             dateAdded           dateUpdated  \\\n",
       "0  AVwcmSyZIN2L1WUfmxyw  2015-10-19T23:47:58Z  2018-06-26T03:00:14Z   \n",
       "1  AVwcmSyZIN2L1WUfmxyw  2015-10-19T23:47:58Z  2018-06-26T03:00:14Z   \n",
       "2  AVwcopQoByjofQCxgfVa  2016-03-29T05:06:36Z  2018-06-26T02:59:52Z   \n",
       "3  AVweXN5RByjofQCxxilK  2017-01-03T07:46:11Z  2018-06-26T02:59:51Z   \n",
       "4  AWQ6MUvo3-Khe5l_j3SG  2018-06-26T02:59:43Z  2018-06-26T02:59:43Z   \n",
       "\n",
       "                address                                    categories  \\\n",
       "0      800 N Canal Blvd  American Restaurant and Fast Food Restaurant   \n",
       "1      800 N Canal Blvd                         Fast Food Restaurants   \n",
       "2   206 Wears Valley Rd                          Fast Food Restaurant   \n",
       "3          3652 Parkway                                     Fast Food   \n",
       "4  2118 Mt Zion Parkway                          Fast Food Restaurant   \n",
       "\n",
       "           city country                                           keys  \\\n",
       "0     Thibodaux      US       us/la/thibodaux/800ncanalblvd/1780593795   \n",
       "1     Thibodaux      US       us/la/thibodaux/800ncanalblvd/1780593795   \n",
       "2  Pigeon Forge      US  us/tn/pigeonforge/206wearsvalleyrd/-864103396   \n",
       "3  Pigeon Forge      US         us/tn/pigeonforge/3652parkway/93075755   \n",
       "4        Morrow      US      us/ga/morrow/2118mtzionparkway/1305117222   \n",
       "\n",
       "    latitude  longitude            name postalCode province  \\\n",
       "0  29.814697 -90.814742  SONIC Drive In      70301       LA   \n",
       "1  29.814697 -90.814742  SONIC Drive In      70301       LA   \n",
       "2  35.803788 -83.580553       Taco Bell      37863       TN   \n",
       "3  35.782339 -83.551408          Arby's      37863       TN   \n",
       "4  33.562738 -84.321143  Steak 'n Shake      30260       GA   \n",
       "\n",
       "                                          sourceURLs  \\\n",
       "0  https://foursquare.com/v/sonic-drive-in/4b7361...   \n",
       "1  https://foursquare.com/v/sonic-drive-in/4b7361...   \n",
       "2  https://www.yellowpages.com/pigeon-forge-tn/mi...   \n",
       "3  http://www.yellowbook.com/profile/arbys_163389...   \n",
       "4  https://foursquare.com/v/steak-n-shake/4bcf77a...   \n",
       "\n",
       "                                            websites  \n",
       "0  https://locations.sonicdrivein.com/la/thibodau...  \n",
       "1  https://locations.sonicdrivein.com/la/thibodau...  \n",
       "2  http://www.tacobell.com,https://locations.taco...  \n",
       "3  http://www.arbys.com,https://locations.arbys.c...  \n",
       "4  http://www.steaknshake.com/locations/23851-ste...  "
      ]
     },
     "execution_count": 9,
     "metadata": {},
     "output_type": "execute_result"
    }
   ],
   "source": [
    "csv_file_one = \"data/datafiniti-fast-food-restaurants-across-america/Datafiniti_Fast_Food_Restaurants.csv\"\n",
    "df_one = pd.read_csv(csv_file_one)\n",
    "df_one.head()"
   ]
  },
  {
   "cell_type": "code",
   "execution_count": 10,
   "metadata": {},
   "outputs": [
    {
     "name": "stdout",
     "output_type": "stream",
     "text": [
      "<class 'pandas.core.frame.DataFrame'>\n",
      "RangeIndex: 10000 entries, 0 to 9999\n",
      "Data columns (total 15 columns):\n",
      " #   Column       Non-Null Count  Dtype  \n",
      "---  ------       --------------  -----  \n",
      " 0   id           10000 non-null  object \n",
      " 1   dateAdded    10000 non-null  object \n",
      " 2   dateUpdated  10000 non-null  object \n",
      " 3   address      10000 non-null  object \n",
      " 4   categories   10000 non-null  object \n",
      " 5   city         10000 non-null  object \n",
      " 6   country      10000 non-null  object \n",
      " 7   keys         10000 non-null  object \n",
      " 8   latitude     10000 non-null  float64\n",
      " 9   longitude    10000 non-null  float64\n",
      " 10  name         10000 non-null  object \n",
      " 11  postalCode   10000 non-null  object \n",
      " 12  province     10000 non-null  object \n",
      " 13  sourceURLs   10000 non-null  object \n",
      " 14  websites     10000 non-null  object \n",
      "dtypes: float64(2), object(13)\n",
      "memory usage: 1.1+ MB\n"
     ]
    }
   ],
   "source": [
    "df_one.info()"
   ]
  },
  {
   "cell_type": "markdown",
   "metadata": {},
   "source": [
    "https://www.reddit.com/r/explainlikeimfive/comments/6284le/eli5_what_are_those_numbers_after_the_dash_in_zip/"
   ]
  },
  {
   "cell_type": "code",
   "execution_count": 11,
   "metadata": {},
   "outputs": [],
   "source": [
    "df_one[\"postalCode\"] = df_one[\"postalCode\"].apply(lambda x: x.split(\"-\")[0])"
   ]
  },
  {
   "cell_type": "code",
   "execution_count": 12,
   "metadata": {},
   "outputs": [],
   "source": [
    "df_one[\"postalCode\"] = df_one[\"postalCode\"].astype(int)"
   ]
  },
  {
   "cell_type": "code",
   "execution_count": 13,
   "metadata": {},
   "outputs": [
    {
     "name": "stdout",
     "output_type": "stream",
     "text": [
      "<class 'pandas.core.frame.DataFrame'>\n",
      "RangeIndex: 10000 entries, 0 to 9999\n",
      "Data columns (total 15 columns):\n",
      " #   Column       Non-Null Count  Dtype  \n",
      "---  ------       --------------  -----  \n",
      " 0   id           10000 non-null  object \n",
      " 1   dateAdded    10000 non-null  object \n",
      " 2   dateUpdated  10000 non-null  object \n",
      " 3   address      10000 non-null  object \n",
      " 4   categories   10000 non-null  object \n",
      " 5   city         10000 non-null  object \n",
      " 6   country      10000 non-null  object \n",
      " 7   keys         10000 non-null  object \n",
      " 8   latitude     10000 non-null  float64\n",
      " 9   longitude    10000 non-null  float64\n",
      " 10  name         10000 non-null  object \n",
      " 11  postalCode   10000 non-null  int32  \n",
      " 12  province     10000 non-null  object \n",
      " 13  sourceURLs   10000 non-null  object \n",
      " 14  websites     10000 non-null  object \n",
      "dtypes: float64(2), int32(1), object(12)\n",
      "memory usage: 1.1+ MB\n"
     ]
    }
   ],
   "source": [
    "df_one.info()"
   ]
  },
  {
   "cell_type": "code",
   "execution_count": null,
   "metadata": {},
   "outputs": [],
   "source": []
  },
  {
   "cell_type": "markdown",
   "metadata": {},
   "source": [
    "**Look like we can link the two datasets using zip_code**"
   ]
  },
  {
   "cell_type": "markdown",
   "metadata": {},
   "source": [
    "### Zip code to ZCTA"
   ]
  },
  {
   "cell_type": "markdown",
   "metadata": {},
   "source": [
    "Why https://en.wikipedia.org/wiki/ZIP_Code_Tabulation_Area\n",
    "<br> https://acsdatacommunity.prb.org/acs-data-products--resources/american-factfinder/f/3/t/427\n",
    "<br> https://atcoordinates.info/2020/05/11/the-trouble-with-zip-codes-solutions-for-data-analysis-and-mapping/\n",
    "<br>Source: https://www.udsmapper.org/zcta-crosswalk.cfm"
   ]
  },
  {
   "cell_type": "code",
   "execution_count": 14,
   "metadata": {},
   "outputs": [],
   "source": [
    "zip_to_zcta_df = pd.read_excel(\"data/zip_to_zcta_2019.xlsx\")"
   ]
  },
  {
   "cell_type": "code",
   "execution_count": 15,
   "metadata": {},
   "outputs": [
    {
     "data": {
      "text/html": [
       "<div>\n",
       "<style scoped>\n",
       "    .dataframe tbody tr th:only-of-type {\n",
       "        vertical-align: middle;\n",
       "    }\n",
       "\n",
       "    .dataframe tbody tr th {\n",
       "        vertical-align: top;\n",
       "    }\n",
       "\n",
       "    .dataframe thead th {\n",
       "        text-align: right;\n",
       "    }\n",
       "</style>\n",
       "<table border=\"1\" class=\"dataframe\">\n",
       "  <thead>\n",
       "    <tr style=\"text-align: right;\">\n",
       "      <th></th>\n",
       "      <th>ZIP_CODE</th>\n",
       "      <th>PO_NAME</th>\n",
       "      <th>STATE</th>\n",
       "      <th>ZIP_TYPE</th>\n",
       "      <th>ZCTA</th>\n",
       "      <th>zip_join_type</th>\n",
       "    </tr>\n",
       "  </thead>\n",
       "  <tbody>\n",
       "    <tr>\n",
       "      <th>0</th>\n",
       "      <td>501</td>\n",
       "      <td>Holtsville</td>\n",
       "      <td>NY</td>\n",
       "      <td>Post Office or large volume customer</td>\n",
       "      <td>11742</td>\n",
       "      <td>Spatial join to ZCTA</td>\n",
       "    </tr>\n",
       "    <tr>\n",
       "      <th>1</th>\n",
       "      <td>544</td>\n",
       "      <td>Holtsville</td>\n",
       "      <td>NY</td>\n",
       "      <td>Post Office or large volume customer</td>\n",
       "      <td>11742</td>\n",
       "      <td>Spatial join to ZCTA</td>\n",
       "    </tr>\n",
       "    <tr>\n",
       "      <th>2</th>\n",
       "      <td>601</td>\n",
       "      <td>Adjuntas</td>\n",
       "      <td>PR</td>\n",
       "      <td>Zip Code Area</td>\n",
       "      <td>00601</td>\n",
       "      <td>Zip Matches ZCTA</td>\n",
       "    </tr>\n",
       "    <tr>\n",
       "      <th>3</th>\n",
       "      <td>602</td>\n",
       "      <td>Aguada</td>\n",
       "      <td>PR</td>\n",
       "      <td>Zip Code Area</td>\n",
       "      <td>00602</td>\n",
       "      <td>Zip Matches ZCTA</td>\n",
       "    </tr>\n",
       "    <tr>\n",
       "      <th>4</th>\n",
       "      <td>603</td>\n",
       "      <td>Aguadilla</td>\n",
       "      <td>PR</td>\n",
       "      <td>Zip Code Area</td>\n",
       "      <td>00603</td>\n",
       "      <td>Zip Matches ZCTA</td>\n",
       "    </tr>\n",
       "  </tbody>\n",
       "</table>\n",
       "</div>"
      ],
      "text/plain": [
       "   ZIP_CODE     PO_NAME STATE                              ZIP_TYPE   ZCTA  \\\n",
       "0       501  Holtsville    NY  Post Office or large volume customer  11742   \n",
       "1       544  Holtsville    NY  Post Office or large volume customer  11742   \n",
       "2       601    Adjuntas    PR                         Zip Code Area  00601   \n",
       "3       602      Aguada    PR                         Zip Code Area  00602   \n",
       "4       603   Aguadilla    PR                         Zip Code Area  00603   \n",
       "\n",
       "          zip_join_type  \n",
       "0  Spatial join to ZCTA  \n",
       "1  Spatial join to ZCTA  \n",
       "2      Zip Matches ZCTA  \n",
       "3      Zip Matches ZCTA  \n",
       "4      Zip Matches ZCTA  "
      ]
     },
     "execution_count": 15,
     "metadata": {},
     "output_type": "execute_result"
    }
   ],
   "source": [
    "zip_to_zcta_df.head()"
   ]
  },
  {
   "cell_type": "code",
   "execution_count": null,
   "metadata": {},
   "outputs": [],
   "source": [
    "## Add 0 to ....\n",
    "for index, value in zip_to_zcta.iterrows():\n",
    "    "
   ]
  },
  {
   "cell_type": "code",
   "execution_count": 16,
   "metadata": {},
   "outputs": [
    {
     "name": "stdout",
     "output_type": "stream",
     "text": [
      "<class 'pandas.core.frame.DataFrame'>\n",
      "RangeIndex: 41107 entries, 0 to 41106\n",
      "Data columns (total 6 columns):\n",
      " #   Column         Non-Null Count  Dtype \n",
      "---  ------         --------------  ----- \n",
      " 0   ZIP_CODE       41107 non-null  int64 \n",
      " 1   PO_NAME        41107 non-null  object\n",
      " 2   STATE          41106 non-null  object\n",
      " 3   ZIP_TYPE       41107 non-null  object\n",
      " 4   ZCTA           41107 non-null  object\n",
      " 5   zip_join_type  41107 non-null  object\n",
      "dtypes: int64(1), object(5)\n",
      "memory usage: 1.9+ MB\n"
     ]
    }
   ],
   "source": [
    "zip_to_zcta_df.info()"
   ]
  },
  {
   "cell_type": "markdown",
   "metadata": {},
   "source": []
  },
  {
   "cell_type": "code",
   "execution_count": 17,
   "metadata": {},
   "outputs": [
    {
     "data": {
      "text/plain": [
       "41106"
      ]
     },
     "execution_count": 17,
     "metadata": {},
     "output_type": "execute_result"
    }
   ],
   "source": [
    "zip_to_zcta_df[\"ZIP_CODE\"].nunique()"
   ]
  },
  {
   "cell_type": "code",
   "execution_count": 18,
   "metadata": {},
   "outputs": [
    {
     "data": {
      "text/plain": [
       "33167"
      ]
     },
     "execution_count": 18,
     "metadata": {},
     "output_type": "execute_result"
    }
   ],
   "source": [
    "zip_to_zcta_df[\"ZCTA\"].nunique()"
   ]
  },
  {
   "cell_type": "code",
   "execution_count": 19,
   "metadata": {},
   "outputs": [
    {
     "data": {
      "text/html": [
       "<div>\n",
       "<style scoped>\n",
       "    .dataframe tbody tr th:only-of-type {\n",
       "        vertical-align: middle;\n",
       "    }\n",
       "\n",
       "    .dataframe tbody tr th {\n",
       "        vertical-align: top;\n",
       "    }\n",
       "\n",
       "    .dataframe thead th {\n",
       "        text-align: right;\n",
       "    }\n",
       "</style>\n",
       "<table border=\"1\" class=\"dataframe\">\n",
       "  <thead>\n",
       "    <tr style=\"text-align: right;\">\n",
       "      <th></th>\n",
       "      <th>id</th>\n",
       "      <th>dateAdded</th>\n",
       "      <th>dateUpdated</th>\n",
       "      <th>address</th>\n",
       "      <th>categories</th>\n",
       "      <th>city</th>\n",
       "      <th>country</th>\n",
       "      <th>keys</th>\n",
       "      <th>latitude</th>\n",
       "      <th>longitude</th>\n",
       "      <th>...</th>\n",
       "      <th>postalCode</th>\n",
       "      <th>province</th>\n",
       "      <th>sourceURLs</th>\n",
       "      <th>websites</th>\n",
       "      <th>ZIP_CODE</th>\n",
       "      <th>PO_NAME</th>\n",
       "      <th>STATE</th>\n",
       "      <th>ZIP_TYPE</th>\n",
       "      <th>ZCTA</th>\n",
       "      <th>zip_join_type</th>\n",
       "    </tr>\n",
       "  </thead>\n",
       "  <tbody>\n",
       "    <tr>\n",
       "      <th>0</th>\n",
       "      <td>AVwcmSyZIN2L1WUfmxyw</td>\n",
       "      <td>2015-10-19T23:47:58Z</td>\n",
       "      <td>2018-06-26T03:00:14Z</td>\n",
       "      <td>800 N Canal Blvd</td>\n",
       "      <td>American Restaurant and Fast Food Restaurant</td>\n",
       "      <td>Thibodaux</td>\n",
       "      <td>US</td>\n",
       "      <td>us/la/thibodaux/800ncanalblvd/1780593795</td>\n",
       "      <td>29.814697</td>\n",
       "      <td>-90.814742</td>\n",
       "      <td>...</td>\n",
       "      <td>70301</td>\n",
       "      <td>LA</td>\n",
       "      <td>https://foursquare.com/v/sonic-drive-in/4b7361...</td>\n",
       "      <td>https://locations.sonicdrivein.com/la/thibodau...</td>\n",
       "      <td>70301</td>\n",
       "      <td>Thibodaux</td>\n",
       "      <td>LA</td>\n",
       "      <td>Zip Code Area</td>\n",
       "      <td>70301</td>\n",
       "      <td>Zip Matches ZCTA</td>\n",
       "    </tr>\n",
       "    <tr>\n",
       "      <th>1</th>\n",
       "      <td>AVwcmSyZIN2L1WUfmxyw</td>\n",
       "      <td>2015-10-19T23:47:58Z</td>\n",
       "      <td>2018-06-26T03:00:14Z</td>\n",
       "      <td>800 N Canal Blvd</td>\n",
       "      <td>Fast Food Restaurants</td>\n",
       "      <td>Thibodaux</td>\n",
       "      <td>US</td>\n",
       "      <td>us/la/thibodaux/800ncanalblvd/1780593795</td>\n",
       "      <td>29.814697</td>\n",
       "      <td>-90.814742</td>\n",
       "      <td>...</td>\n",
       "      <td>70301</td>\n",
       "      <td>LA</td>\n",
       "      <td>https://foursquare.com/v/sonic-drive-in/4b7361...</td>\n",
       "      <td>https://locations.sonicdrivein.com/la/thibodau...</td>\n",
       "      <td>70301</td>\n",
       "      <td>Thibodaux</td>\n",
       "      <td>LA</td>\n",
       "      <td>Zip Code Area</td>\n",
       "      <td>70301</td>\n",
       "      <td>Zip Matches ZCTA</td>\n",
       "    </tr>\n",
       "    <tr>\n",
       "      <th>2</th>\n",
       "      <td>AVwdXkZ4_7pvs4fz5KBg</td>\n",
       "      <td>2015-11-19T22:28:14Z</td>\n",
       "      <td>2018-06-22T18:31:19Z</td>\n",
       "      <td>204 N Canal Blvd</td>\n",
       "      <td>Fast Food</td>\n",
       "      <td>Thibodaux</td>\n",
       "      <td>US</td>\n",
       "      <td>us/la/thibodaux/204ncanalblvd/718051523</td>\n",
       "      <td>29.800178</td>\n",
       "      <td>-90.817667</td>\n",
       "      <td>...</td>\n",
       "      <td>70301</td>\n",
       "      <td>LA</td>\n",
       "      <td>https://www.allmenus.com/la/thibodaux/131709-q...</td>\n",
       "      <td>http://www.quiznos.com/</td>\n",
       "      <td>70301</td>\n",
       "      <td>Thibodaux</td>\n",
       "      <td>LA</td>\n",
       "      <td>Zip Code Area</td>\n",
       "      <td>70301</td>\n",
       "      <td>Zip Matches ZCTA</td>\n",
       "    </tr>\n",
       "    <tr>\n",
       "      <th>3</th>\n",
       "      <td>AVweZiIVkufWRAb5Cj9J</td>\n",
       "      <td>2015-11-06T10:29:56Z</td>\n",
       "      <td>2018-04-14T12:20:08Z</td>\n",
       "      <td>1020 S Acadia Rd</td>\n",
       "      <td>Fast Food Restaurant</td>\n",
       "      <td>Thibodaux</td>\n",
       "      <td>US</td>\n",
       "      <td>us/la/thibodaux/1020sacadiard/-1161002137</td>\n",
       "      <td>29.781190</td>\n",
       "      <td>-90.808010</td>\n",
       "      <td>...</td>\n",
       "      <td>70301</td>\n",
       "      <td>LA</td>\n",
       "      <td>http://www.yellowpages.com/thibodaux-la/mip/mc...</td>\n",
       "      <td>http://mcdonalds.com,http://www.mcdonalds.com/...</td>\n",
       "      <td>70301</td>\n",
       "      <td>Thibodaux</td>\n",
       "      <td>LA</td>\n",
       "      <td>Zip Code Area</td>\n",
       "      <td>70301</td>\n",
       "      <td>Zip Matches ZCTA</td>\n",
       "    </tr>\n",
       "    <tr>\n",
       "      <th>4</th>\n",
       "      <td>AVweZiIVkufWRAb5Cj9J</td>\n",
       "      <td>2015-11-06T10:29:56Z</td>\n",
       "      <td>2018-04-14T12:20:08Z</td>\n",
       "      <td>1020 S Acadia Rd</td>\n",
       "      <td>Fast Food Restaurants</td>\n",
       "      <td>Thibodaux</td>\n",
       "      <td>US</td>\n",
       "      <td>us/la/thibodaux/1020sacadiard/-1161002137</td>\n",
       "      <td>29.781190</td>\n",
       "      <td>-90.808010</td>\n",
       "      <td>...</td>\n",
       "      <td>70301</td>\n",
       "      <td>LA</td>\n",
       "      <td>http://www.yellowpages.com/thibodaux-la/mip/mc...</td>\n",
       "      <td>http://mcdonalds.com,http://www.mcdonalds.com/...</td>\n",
       "      <td>70301</td>\n",
       "      <td>Thibodaux</td>\n",
       "      <td>LA</td>\n",
       "      <td>Zip Code Area</td>\n",
       "      <td>70301</td>\n",
       "      <td>Zip Matches ZCTA</td>\n",
       "    </tr>\n",
       "  </tbody>\n",
       "</table>\n",
       "<p>5 rows × 21 columns</p>\n",
       "</div>"
      ],
      "text/plain": [
       "                     id             dateAdded           dateUpdated  \\\n",
       "0  AVwcmSyZIN2L1WUfmxyw  2015-10-19T23:47:58Z  2018-06-26T03:00:14Z   \n",
       "1  AVwcmSyZIN2L1WUfmxyw  2015-10-19T23:47:58Z  2018-06-26T03:00:14Z   \n",
       "2  AVwdXkZ4_7pvs4fz5KBg  2015-11-19T22:28:14Z  2018-06-22T18:31:19Z   \n",
       "3  AVweZiIVkufWRAb5Cj9J  2015-11-06T10:29:56Z  2018-04-14T12:20:08Z   \n",
       "4  AVweZiIVkufWRAb5Cj9J  2015-11-06T10:29:56Z  2018-04-14T12:20:08Z   \n",
       "\n",
       "            address                                    categories       city  \\\n",
       "0  800 N Canal Blvd  American Restaurant and Fast Food Restaurant  Thibodaux   \n",
       "1  800 N Canal Blvd                         Fast Food Restaurants  Thibodaux   \n",
       "2  204 N Canal Blvd                                     Fast Food  Thibodaux   \n",
       "3  1020 S Acadia Rd                          Fast Food Restaurant  Thibodaux   \n",
       "4  1020 S Acadia Rd                         Fast Food Restaurants  Thibodaux   \n",
       "\n",
       "  country                                       keys   latitude  longitude  \\\n",
       "0      US   us/la/thibodaux/800ncanalblvd/1780593795  29.814697 -90.814742   \n",
       "1      US   us/la/thibodaux/800ncanalblvd/1780593795  29.814697 -90.814742   \n",
       "2      US    us/la/thibodaux/204ncanalblvd/718051523  29.800178 -90.817667   \n",
       "3      US  us/la/thibodaux/1020sacadiard/-1161002137  29.781190 -90.808010   \n",
       "4      US  us/la/thibodaux/1020sacadiard/-1161002137  29.781190 -90.808010   \n",
       "\n",
       "   ... postalCode  province  \\\n",
       "0  ...      70301        LA   \n",
       "1  ...      70301        LA   \n",
       "2  ...      70301        LA   \n",
       "3  ...      70301        LA   \n",
       "4  ...      70301        LA   \n",
       "\n",
       "                                          sourceURLs  \\\n",
       "0  https://foursquare.com/v/sonic-drive-in/4b7361...   \n",
       "1  https://foursquare.com/v/sonic-drive-in/4b7361...   \n",
       "2  https://www.allmenus.com/la/thibodaux/131709-q...   \n",
       "3  http://www.yellowpages.com/thibodaux-la/mip/mc...   \n",
       "4  http://www.yellowpages.com/thibodaux-la/mip/mc...   \n",
       "\n",
       "                                            websites ZIP_CODE    PO_NAME  \\\n",
       "0  https://locations.sonicdrivein.com/la/thibodau...    70301  Thibodaux   \n",
       "1  https://locations.sonicdrivein.com/la/thibodau...    70301  Thibodaux   \n",
       "2                            http://www.quiznos.com/    70301  Thibodaux   \n",
       "3  http://mcdonalds.com,http://www.mcdonalds.com/...    70301  Thibodaux   \n",
       "4  http://mcdonalds.com,http://www.mcdonalds.com/...    70301  Thibodaux   \n",
       "\n",
       "  STATE       ZIP_TYPE   ZCTA     zip_join_type  \n",
       "0    LA  Zip Code Area  70301  Zip Matches ZCTA  \n",
       "1    LA  Zip Code Area  70301  Zip Matches ZCTA  \n",
       "2    LA  Zip Code Area  70301  Zip Matches ZCTA  \n",
       "3    LA  Zip Code Area  70301  Zip Matches ZCTA  \n",
       "4    LA  Zip Code Area  70301  Zip Matches ZCTA  \n",
       "\n",
       "[5 rows x 21 columns]"
      ]
     },
     "execution_count": 19,
     "metadata": {},
     "output_type": "execute_result"
    }
   ],
   "source": [
    "df_one_zcta = pd.merge(df_one, zip_to_zcta_df, left_on=\"postalCode\", right_on=\"ZIP_CODE\")\n",
    "df_one_zcta.head()"
   ]
  },
  {
   "cell_type": "code",
   "execution_count": 20,
   "metadata": {},
   "outputs": [
    {
     "data": {
      "text/plain": [
       "Index(['id', 'dateAdded', 'dateUpdated', 'address', 'categories', 'city',\n",
       "       'country', 'keys', 'latitude', 'longitude', 'name', 'postalCode',\n",
       "       'province', 'sourceURLs', 'websites', 'ZIP_CODE', 'PO_NAME', 'STATE',\n",
       "       'ZIP_TYPE', 'ZCTA', 'zip_join_type'],\n",
       "      dtype='object')"
      ]
     },
     "execution_count": 20,
     "metadata": {},
     "output_type": "execute_result"
    }
   ],
   "source": [
    "df_one_zcta.columns"
   ]
  },
  {
   "cell_type": "code",
   "execution_count": 21,
   "metadata": {},
   "outputs": [],
   "source": [
    "final_restaurant_df = df_one_zcta[['id', 'name', 'address', 'latitude', 'longitude', 'postalCode', 'ZIP_CODE', 'ZCTA']].copy()"
   ]
  },
  {
   "cell_type": "code",
   "execution_count": 22,
   "metadata": {},
   "outputs": [
    {
     "name": "stdout",
     "output_type": "stream",
     "text": [
      "<class 'pandas.core.frame.DataFrame'>\n",
      "Int64Index: 10000 entries, 0 to 9999\n",
      "Data columns (total 8 columns):\n",
      " #   Column      Non-Null Count  Dtype  \n",
      "---  ------      --------------  -----  \n",
      " 0   id          10000 non-null  object \n",
      " 1   name        10000 non-null  object \n",
      " 2   address     10000 non-null  object \n",
      " 3   latitude    10000 non-null  float64\n",
      " 4   longitude   10000 non-null  float64\n",
      " 5   postalCode  10000 non-null  int32  \n",
      " 6   ZIP_CODE    10000 non-null  int64  \n",
      " 7   ZCTA        10000 non-null  object \n",
      "dtypes: float64(2), int32(1), int64(1), object(4)\n",
      "memory usage: 664.1+ KB\n"
     ]
    }
   ],
   "source": [
    "final_restaurant_df.info()"
   ]
  },
  {
   "cell_type": "code",
   "execution_count": 23,
   "metadata": {},
   "outputs": [],
   "source": [
    "final_restaurant_df[\"ZCTA\"] = final_restaurant_df[\"ZCTA\"].astype(int)"
   ]
  },
  {
   "cell_type": "code",
   "execution_count": 24,
   "metadata": {},
   "outputs": [
    {
     "name": "stdout",
     "output_type": "stream",
     "text": [
      "<class 'pandas.core.frame.DataFrame'>\n",
      "Int64Index: 10000 entries, 0 to 9999\n",
      "Data columns (total 8 columns):\n",
      " #   Column      Non-Null Count  Dtype  \n",
      "---  ------      --------------  -----  \n",
      " 0   id          10000 non-null  object \n",
      " 1   name        10000 non-null  object \n",
      " 2   address     10000 non-null  object \n",
      " 3   latitude    10000 non-null  float64\n",
      " 4   longitude   10000 non-null  float64\n",
      " 5   postalCode  10000 non-null  int32  \n",
      " 6   ZIP_CODE    10000 non-null  int64  \n",
      " 7   ZCTA        10000 non-null  int32  \n",
      "dtypes: float64(2), int32(2), int64(1), object(3)\n",
      "memory usage: 625.0+ KB\n"
     ]
    }
   ],
   "source": [
    "final_restaurant_df.info()"
   ]
  },
  {
   "cell_type": "code",
   "execution_count": 25,
   "metadata": {},
   "outputs": [],
   "source": [
    "final_restaurant_df[\"diff\"] = final_restaurant_df[\"ZCTA\"] - final_restaurant_df[\"postalCode\"]"
   ]
  },
  {
   "cell_type": "code",
   "execution_count": 26,
   "metadata": {},
   "outputs": [
    {
     "data": {
      "text/html": [
       "<div>\n",
       "<style scoped>\n",
       "    .dataframe tbody tr th:only-of-type {\n",
       "        vertical-align: middle;\n",
       "    }\n",
       "\n",
       "    .dataframe tbody tr th {\n",
       "        vertical-align: top;\n",
       "    }\n",
       "\n",
       "    .dataframe thead th {\n",
       "        text-align: right;\n",
       "    }\n",
       "</style>\n",
       "<table border=\"1\" class=\"dataframe\">\n",
       "  <thead>\n",
       "    <tr style=\"text-align: right;\">\n",
       "      <th></th>\n",
       "      <th>id</th>\n",
       "      <th>name</th>\n",
       "      <th>address</th>\n",
       "      <th>latitude</th>\n",
       "      <th>longitude</th>\n",
       "      <th>postalCode</th>\n",
       "      <th>ZIP_CODE</th>\n",
       "      <th>ZCTA</th>\n",
       "      <th>diff</th>\n",
       "    </tr>\n",
       "  </thead>\n",
       "  <tbody>\n",
       "    <tr>\n",
       "      <th>3211</th>\n",
       "      <td>AVwcg46g_7pvs4fzv5ve</td>\n",
       "      <td>B.GOOD</td>\n",
       "      <td>255 Washington St</td>\n",
       "      <td>42.357762</td>\n",
       "      <td>-71.058363</td>\n",
       "      <td>2201</td>\n",
       "      <td>2201</td>\n",
       "      <td>2203</td>\n",
       "      <td>2</td>\n",
       "    </tr>\n",
       "    <tr>\n",
       "      <th>3560</th>\n",
       "      <td>AVwdYPaQkufWRAb55R-g</td>\n",
       "      <td>Charley's Grilled Subs</td>\n",
       "      <td>1000 Airport Blvd</td>\n",
       "      <td>40.496025</td>\n",
       "      <td>-80.256707</td>\n",
       "      <td>15231</td>\n",
       "      <td>15231</td>\n",
       "      <td>15108</td>\n",
       "      <td>-123</td>\n",
       "    </tr>\n",
       "    <tr>\n",
       "      <th>4980</th>\n",
       "      <td>AVwdaFx6kufWRAb55lPk</td>\n",
       "      <td>Arby's</td>\n",
       "      <td>4303 Prospect Ave</td>\n",
       "      <td>39.901745</td>\n",
       "      <td>-88.954570</td>\n",
       "      <td>62524</td>\n",
       "      <td>62524</td>\n",
       "      <td>62526</td>\n",
       "      <td>2</td>\n",
       "    </tr>\n",
       "    <tr>\n",
       "      <th>5829</th>\n",
       "      <td>AVwcgRCHByjofQCxe9SZ</td>\n",
       "      <td>Chick-fil-A</td>\n",
       "      <td>800 S Gay St</td>\n",
       "      <td>35.962623</td>\n",
       "      <td>-83.916672</td>\n",
       "      <td>37929</td>\n",
       "      <td>37929</td>\n",
       "      <td>37902</td>\n",
       "      <td>-27</td>\n",
       "    </tr>\n",
       "    <tr>\n",
       "      <th>7973</th>\n",
       "      <td>AWOnmxYc3-Khe5l_ivie</td>\n",
       "      <td>Quiznos</td>\n",
       "      <td>1 Medical Dr</td>\n",
       "      <td>35.905896</td>\n",
       "      <td>-79.051529</td>\n",
       "      <td>27599</td>\n",
       "      <td>27599</td>\n",
       "      <td>27514</td>\n",
       "      <td>-85</td>\n",
       "    </tr>\n",
       "    <tr>\n",
       "      <th>8852</th>\n",
       "      <td>AVwdNgii_7pvs4fz3cVO</td>\n",
       "      <td>Church's Chicken</td>\n",
       "      <td>6425 Burnet Rd</td>\n",
       "      <td>30.339992</td>\n",
       "      <td>-97.738675</td>\n",
       "      <td>73301</td>\n",
       "      <td>73301</td>\n",
       "      <td>78704</td>\n",
       "      <td>5403</td>\n",
       "    </tr>\n",
       "    <tr>\n",
       "      <th>8853</th>\n",
       "      <td>AVwdNgii_7pvs4fz3cVO</td>\n",
       "      <td>Church's Chicken</td>\n",
       "      <td>6425 Burnet Rd</td>\n",
       "      <td>30.339992</td>\n",
       "      <td>-97.738675</td>\n",
       "      <td>73301</td>\n",
       "      <td>73301</td>\n",
       "      <td>78704</td>\n",
       "      <td>5403</td>\n",
       "    </tr>\n",
       "    <tr>\n",
       "      <th>8872</th>\n",
       "      <td>AVwebb94ByjofQCxyG9e</td>\n",
       "      <td>McDonald's</td>\n",
       "      <td>250 Summit Park Dr</td>\n",
       "      <td>40.451160</td>\n",
       "      <td>-80.185857</td>\n",
       "      <td>15275</td>\n",
       "      <td>15275</td>\n",
       "      <td>15108</td>\n",
       "      <td>-167</td>\n",
       "    </tr>\n",
       "    <tr>\n",
       "      <th>8873</th>\n",
       "      <td>AVzA9lTq3D1zeR_xBCPk</td>\n",
       "      <td>McDonald's</td>\n",
       "      <td>100 Davis Blvd</td>\n",
       "      <td>40.449249</td>\n",
       "      <td>-80.173662</td>\n",
       "      <td>15275</td>\n",
       "      <td>15275</td>\n",
       "      <td>15108</td>\n",
       "      <td>-167</td>\n",
       "    </tr>\n",
       "    <tr>\n",
       "      <th>8914</th>\n",
       "      <td>AVwcvJAHkufWRAb5yd3H</td>\n",
       "      <td>Arby's</td>\n",
       "      <td>787 Erie Blvd W</td>\n",
       "      <td>43.047896</td>\n",
       "      <td>-76.170271</td>\n",
       "      <td>13201</td>\n",
       "      <td>13201</td>\n",
       "      <td>13202</td>\n",
       "      <td>1</td>\n",
       "    </tr>\n",
       "    <tr>\n",
       "      <th>8915</th>\n",
       "      <td>AVwcvJAHkufWRAb5yd3H</td>\n",
       "      <td>Arby's</td>\n",
       "      <td>787 Erie Blvd W</td>\n",
       "      <td>43.047896</td>\n",
       "      <td>-76.170271</td>\n",
       "      <td>13201</td>\n",
       "      <td>13201</td>\n",
       "      <td>13202</td>\n",
       "      <td>1</td>\n",
       "    </tr>\n",
       "    <tr>\n",
       "      <th>9018</th>\n",
       "      <td>AV53fDYYIxWefVJwp20T</td>\n",
       "      <td>Subway</td>\n",
       "      <td>169 International Ctr</td>\n",
       "      <td>42.726201</td>\n",
       "      <td>-84.480964</td>\n",
       "      <td>48824</td>\n",
       "      <td>48824</td>\n",
       "      <td>48825</td>\n",
       "      <td>1</td>\n",
       "    </tr>\n",
       "    <tr>\n",
       "      <th>9332</th>\n",
       "      <td>AVwdhhJS_7pvs4fz6u1n</td>\n",
       "      <td>Taco Bell</td>\n",
       "      <td>3197 W 5400 S</td>\n",
       "      <td>40.652230</td>\n",
       "      <td>-111.967090</td>\n",
       "      <td>84129</td>\n",
       "      <td>84129</td>\n",
       "      <td>84118</td>\n",
       "      <td>-11</td>\n",
       "    </tr>\n",
       "    <tr>\n",
       "      <th>9413</th>\n",
       "      <td>AVwdIfwd_7pvs4fz2lau</td>\n",
       "      <td>Subway</td>\n",
       "      <td>1400 R St</td>\n",
       "      <td>40.817630</td>\n",
       "      <td>-96.700100</td>\n",
       "      <td>68588</td>\n",
       "      <td>68588</td>\n",
       "      <td>68508</td>\n",
       "      <td>-80</td>\n",
       "    </tr>\n",
       "    <tr>\n",
       "      <th>9414</th>\n",
       "      <td>AVweOMzQkufWRAb5BDoH</td>\n",
       "      <td>Wendy's</td>\n",
       "      <td>5757 Wayne Newton Blvd</td>\n",
       "      <td>36.084620</td>\n",
       "      <td>-115.149750</td>\n",
       "      <td>89111</td>\n",
       "      <td>89111</td>\n",
       "      <td>89119</td>\n",
       "      <td>8</td>\n",
       "    </tr>\n",
       "    <tr>\n",
       "      <th>9461</th>\n",
       "      <td>AVwcyuK4IN2L1WUfo8RL</td>\n",
       "      <td>McDonald's</td>\n",
       "      <td>9500 Euclid Ave</td>\n",
       "      <td>41.503360</td>\n",
       "      <td>-81.620590</td>\n",
       "      <td>44195</td>\n",
       "      <td>44195</td>\n",
       "      <td>44106</td>\n",
       "      <td>-89</td>\n",
       "    </tr>\n",
       "    <tr>\n",
       "      <th>9561</th>\n",
       "      <td>AVwdv4og_7pvs4fz85-o</td>\n",
       "      <td>El Pollo Loco</td>\n",
       "      <td>6986 Chestnut St</td>\n",
       "      <td>37.001400</td>\n",
       "      <td>-121.560500</td>\n",
       "      <td>95021</td>\n",
       "      <td>95021</td>\n",
       "      <td>95020</td>\n",
       "      <td>-1</td>\n",
       "    </tr>\n",
       "    <tr>\n",
       "      <th>9752</th>\n",
       "      <td>AVzBD5lqLD2H7whiWLgf</td>\n",
       "      <td>Chick-fil-A</td>\n",
       "      <td>4000 Central Florida Blvd</td>\n",
       "      <td>28.410214</td>\n",
       "      <td>-81.424830</td>\n",
       "      <td>32816</td>\n",
       "      <td>32816</td>\n",
       "      <td>32826</td>\n",
       "      <td>10</td>\n",
       "    </tr>\n",
       "  </tbody>\n",
       "</table>\n",
       "</div>"
      ],
      "text/plain": [
       "                        id                    name                    address  \\\n",
       "3211  AVwcg46g_7pvs4fzv5ve                  B.GOOD          255 Washington St   \n",
       "3560  AVwdYPaQkufWRAb55R-g  Charley's Grilled Subs          1000 Airport Blvd   \n",
       "4980  AVwdaFx6kufWRAb55lPk                  Arby's          4303 Prospect Ave   \n",
       "5829  AVwcgRCHByjofQCxe9SZ             Chick-fil-A               800 S Gay St   \n",
       "7973  AWOnmxYc3-Khe5l_ivie                 Quiznos               1 Medical Dr   \n",
       "8852  AVwdNgii_7pvs4fz3cVO        Church's Chicken             6425 Burnet Rd   \n",
       "8853  AVwdNgii_7pvs4fz3cVO        Church's Chicken             6425 Burnet Rd   \n",
       "8872  AVwebb94ByjofQCxyG9e              McDonald's         250 Summit Park Dr   \n",
       "8873  AVzA9lTq3D1zeR_xBCPk              McDonald's             100 Davis Blvd   \n",
       "8914  AVwcvJAHkufWRAb5yd3H                  Arby's            787 Erie Blvd W   \n",
       "8915  AVwcvJAHkufWRAb5yd3H                  Arby's            787 Erie Blvd W   \n",
       "9018  AV53fDYYIxWefVJwp20T                  Subway      169 International Ctr   \n",
       "9332  AVwdhhJS_7pvs4fz6u1n               Taco Bell              3197 W 5400 S   \n",
       "9413  AVwdIfwd_7pvs4fz2lau                  Subway                  1400 R St   \n",
       "9414  AVweOMzQkufWRAb5BDoH                 Wendy's     5757 Wayne Newton Blvd   \n",
       "9461  AVwcyuK4IN2L1WUfo8RL              McDonald's            9500 Euclid Ave   \n",
       "9561  AVwdv4og_7pvs4fz85-o           El Pollo Loco           6986 Chestnut St   \n",
       "9752  AVzBD5lqLD2H7whiWLgf             Chick-fil-A  4000 Central Florida Blvd   \n",
       "\n",
       "       latitude   longitude  postalCode  ZIP_CODE   ZCTA  diff  \n",
       "3211  42.357762  -71.058363        2201      2201   2203     2  \n",
       "3560  40.496025  -80.256707       15231     15231  15108  -123  \n",
       "4980  39.901745  -88.954570       62524     62524  62526     2  \n",
       "5829  35.962623  -83.916672       37929     37929  37902   -27  \n",
       "7973  35.905896  -79.051529       27599     27599  27514   -85  \n",
       "8852  30.339992  -97.738675       73301     73301  78704  5403  \n",
       "8853  30.339992  -97.738675       73301     73301  78704  5403  \n",
       "8872  40.451160  -80.185857       15275     15275  15108  -167  \n",
       "8873  40.449249  -80.173662       15275     15275  15108  -167  \n",
       "8914  43.047896  -76.170271       13201     13201  13202     1  \n",
       "8915  43.047896  -76.170271       13201     13201  13202     1  \n",
       "9018  42.726201  -84.480964       48824     48824  48825     1  \n",
       "9332  40.652230 -111.967090       84129     84129  84118   -11  \n",
       "9413  40.817630  -96.700100       68588     68588  68508   -80  \n",
       "9414  36.084620 -115.149750       89111     89111  89119     8  \n",
       "9461  41.503360  -81.620590       44195     44195  44106   -89  \n",
       "9561  37.001400 -121.560500       95021     95021  95020    -1  \n",
       "9752  28.410214  -81.424830       32816     32816  32826    10  "
      ]
     },
     "execution_count": 26,
     "metadata": {},
     "output_type": "execute_result"
    }
   ],
   "source": [
    "final_restaurant_df[final_restaurant_df[\"diff\"]!=0]"
   ]
  },
  {
   "cell_type": "code",
   "execution_count": null,
   "metadata": {},
   "outputs": [],
   "source": []
  },
  {
   "cell_type": "code",
   "execution_count": null,
   "metadata": {},
   "outputs": [],
   "source": []
  },
  {
   "cell_type": "code",
   "execution_count": null,
   "metadata": {},
   "outputs": [],
   "source": []
  },
  {
   "cell_type": "code",
   "execution_count": null,
   "metadata": {},
   "outputs": [],
   "source": []
  },
  {
   "cell_type": "code",
   "execution_count": null,
   "metadata": {},
   "outputs": [],
   "source": []
  },
  {
   "cell_type": "code",
   "execution_count": null,
   "metadata": {},
   "outputs": [],
   "source": []
  },
  {
   "cell_type": "code",
   "execution_count": null,
   "metadata": {},
   "outputs": [],
   "source": []
  },
  {
   "cell_type": "markdown",
   "metadata": {},
   "source": [
    "### Transform No 1 DataFrame"
   ]
  },
  {
   "cell_type": "code",
   "execution_count": null,
   "metadata": {},
   "outputs": [],
   "source": []
  },
  {
   "cell_type": "code",
   "execution_count": null,
   "metadata": {},
   "outputs": [],
   "source": []
  },
  {
   "cell_type": "code",
   "execution_count": null,
   "metadata": {},
   "outputs": [],
   "source": []
  },
  {
   "cell_type": "code",
   "execution_count": null,
   "metadata": {},
   "outputs": [],
   "source": []
  },
  {
   "cell_type": "markdown",
   "metadata": {},
   "source": [
    "### Transform No 2 DataFrame"
   ]
  },
  {
   "cell_type": "code",
   "execution_count": null,
   "metadata": {},
   "outputs": [],
   "source": []
  },
  {
   "cell_type": "code",
   "execution_count": null,
   "metadata": {},
   "outputs": [],
   "source": []
  },
  {
   "cell_type": "code",
   "execution_count": null,
   "metadata": {},
   "outputs": [],
   "source": []
  },
  {
   "cell_type": "code",
   "execution_count": null,
   "metadata": {},
   "outputs": [],
   "source": []
  },
  {
   "cell_type": "markdown",
   "metadata": {},
   "source": [
    "### Create database connection"
   ]
  },
  {
   "cell_type": "code",
   "execution_count": null,
   "metadata": {},
   "outputs": [],
   "source": []
  },
  {
   "cell_type": "code",
   "execution_count": null,
   "metadata": {},
   "outputs": [],
   "source": []
  },
  {
   "cell_type": "code",
   "execution_count": null,
   "metadata": {},
   "outputs": [],
   "source": []
  },
  {
   "cell_type": "code",
   "execution_count": null,
   "metadata": {},
   "outputs": [],
   "source": []
  },
  {
   "cell_type": "markdown",
   "metadata": {},
   "source": [
    "### Load DataFrames into database"
   ]
  },
  {
   "cell_type": "code",
   "execution_count": null,
   "metadata": {},
   "outputs": [],
   "source": []
  },
  {
   "cell_type": "code",
   "execution_count": null,
   "metadata": {},
   "outputs": [],
   "source": []
  },
  {
   "cell_type": "code",
   "execution_count": null,
   "metadata": {},
   "outputs": [],
   "source": []
  },
  {
   "cell_type": "code",
   "execution_count": null,
   "metadata": {},
   "outputs": [],
   "source": []
  },
  {
   "cell_type": "code",
   "execution_count": null,
   "metadata": {},
   "outputs": [],
   "source": []
  }
 ],
 "metadata": {
  "kernelspec": {
   "display_name": "Python [conda env:PythonData] *",
   "language": "python",
   "name": "conda-env-PythonData-py"
  },
  "language_info": {
   "codemirror_mode": {
    "name": "ipython",
    "version": 3
   },
   "file_extension": ".py",
   "mimetype": "text/x-python",
   "name": "python",
   "nbconvert_exporter": "python",
   "pygments_lexer": "ipython3",
   "version": "3.7.6"
  },
  "toc": {
   "base_numbering": 1,
   "nav_menu": {},
   "number_sections": true,
   "sideBar": true,
   "skip_h1_title": false,
   "title_cell": "Table of Contents",
   "title_sidebar": "Contents",
   "toc_cell": false,
   "toc_position": {},
   "toc_section_display": true,
   "toc_window_display": false
  },
  "varInspector": {
   "cols": {
    "lenName": 16,
    "lenType": 16,
    "lenVar": 40
   },
   "kernels_config": {
    "python": {
     "delete_cmd_postfix": "",
     "delete_cmd_prefix": "del ",
     "library": "var_list.py",
     "varRefreshCmd": "print(var_dic_list())"
    },
    "r": {
     "delete_cmd_postfix": ") ",
     "delete_cmd_prefix": "rm(",
     "library": "var_list.r",
     "varRefreshCmd": "cat(var_dic_list()) "
    }
   },
   "types_to_exclude": [
    "module",
    "function",
    "builtin_function_or_method",
    "instance",
    "_Feature"
   ],
   "window_display": false
  }
 },
 "nbformat": 4,
 "nbformat_minor": 4
}
